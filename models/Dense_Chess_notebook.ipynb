{
  "nbformat": 4,
  "nbformat_minor": 0,
  "metadata": {
    "colab": {
      "provenance": [],
      "machine_shape": "hm",
      "gpuType": "A100",
      "authorship_tag": "ABX9TyPY2fA+Swtzl/YkOsKjvrZc",
      "include_colab_link": true
    },
    "kernelspec": {
      "name": "python3",
      "display_name": "Python 3"
    },
    "language_info": {
      "name": "python"
    },
    "accelerator": "GPU"
  },
  "cells": [
    {
      "cell_type": "markdown",
      "metadata": {
        "id": "view-in-github",
        "colab_type": "text"
      },
      "source": [
        "<a href=\"https://colab.research.google.com/github/Seferovic8/chess-project/blob/main/models/Dense_Chess_notebook.ipynb\" target=\"_parent\"><img src=\"https://colab.research.google.com/assets/colab-badge.svg\" alt=\"Open In Colab\"/></a>"
      ]
    },
    {
      "cell_type": "code",
      "source": [
        "from google.colab import drive\n",
        "drive.mount('/content/drive/')"
      ],
      "metadata": {
        "colab": {
          "base_uri": "https://localhost:8080/"
        },
        "id": "KT2pf5EEo-Rt",
        "outputId": "920e6d58-3d9d-4f55-85ae-2c46a2a63226"
      },
      "execution_count": null,
      "outputs": [
        {
          "output_type": "stream",
          "name": "stdout",
          "text": [
            "Mounted at /content/drive/\n"
          ]
        }
      ]
    },
    {
      "cell_type": "code",
      "source": [
        "!pip install chess"
      ],
      "metadata": {
        "id": "92J534YdT3Pf",
        "colab": {
          "base_uri": "https://localhost:8080/"
        },
        "outputId": "82f42667-2ee9-436e-9287-345765cbd168"
      },
      "execution_count": null,
      "outputs": [
        {
          "output_type": "stream",
          "name": "stdout",
          "text": [
            "Collecting chess\n",
            "  Downloading chess-1.11.1.tar.gz (156 kB)\n",
            "\u001b[?25l     \u001b[90m━━━━━━━━━━━━━━━━━━━━━━━━━━━━━━━━━━━━━━━━\u001b[0m \u001b[32m0.0/156.5 kB\u001b[0m \u001b[31m?\u001b[0m eta \u001b[36m-:--:--\u001b[0m\r\u001b[2K     \u001b[91m━━━━━━━━━━━━━━━━━━━━━━━━━━━━━━━━━━━━━━━\u001b[0m\u001b[90m╺\u001b[0m \u001b[32m153.6/156.5 kB\u001b[0m \u001b[31m4.9 MB/s\u001b[0m eta \u001b[36m0:00:01\u001b[0m\r\u001b[2K     \u001b[90m━━━━━━━━━━━━━━━━━━━━━━━━━━━━━━━━━━━━━━━━\u001b[0m \u001b[32m156.5/156.5 kB\u001b[0m \u001b[31m3.7 MB/s\u001b[0m eta \u001b[36m0:00:00\u001b[0m\n",
            "\u001b[?25h  Preparing metadata (setup.py) ... \u001b[?25l\u001b[?25hdone\n",
            "Building wheels for collected packages: chess\n",
            "  Building wheel for chess (setup.py) ... \u001b[?25l\u001b[?25hdone\n",
            "  Created wheel for chess: filename=chess-1.11.1-py3-none-any.whl size=148497 sha256=f4e38f530d56bfb8d98e9fd1473da259c74f547ccb16b35304101d502f7a451a\n",
            "  Stored in directory: /root/.cache/pip/wheels/2e/2d/23/1bfc95db984ed3ecbf6764167dc7526d0ab521cf9a9852544e\n",
            "Successfully built chess\n",
            "Installing collected packages: chess\n",
            "Successfully installed chess-1.11.1\n"
          ]
        }
      ]
    },
    {
      "cell_type": "code",
      "execution_count": null,
      "metadata": {
        "id": "Iaclb_V3pXOf"
      },
      "outputs": [],
      "source": [
        "import numpy as np\n",
        "import pandas as pd\n",
        "import torch\n",
        "from numpy import loadtxt\n",
        "from io import StringIO\n",
        "import chess.pgn\n",
        "import matplotlib.pyplot as plt\n",
        "\n",
        "import torch\n",
        "import torch.nn as nn\n",
        "import torch.nn.functional as F\n",
        "import torchaudio.transforms as transforms\n",
        "from torch.utils.data import DataLoader\n",
        "from torch.utils.data import Dataset\n",
        "from sklearn.model_selection import train_test_split\n",
        "from datetime import datetime\n"
      ]
    },
    {
      "cell_type": "code",
      "source": [
        "#!gdown 1ruGgJKeKv2DGWgVcqmdjK9pWk0mPYSu4\n",
        "!gdown 1OjVvEeEZNTvU6M2s2We6u8pFYil3dS1x"
      ],
      "metadata": {
        "id": "q0WN8dPzpcRD",
        "colab": {
          "base_uri": "https://localhost:8080/"
        },
        "outputId": "da902fdf-3893-4160-99ff-9f77210cdaeb"
      },
      "execution_count": null,
      "outputs": [
        {
          "output_type": "stream",
          "name": "stdout",
          "text": [
            "Downloading...\n",
            "From (original): https://drive.google.com/uc?id=1OjVvEeEZNTvU6M2s2We6u8pFYil3dS1x\n",
            "From (redirected): https://drive.google.com/uc?id=1OjVvEeEZNTvU6M2s2We6u8pFYil3dS1x&confirm=t&uuid=3f3d78a2-382d-47e1-89b7-231eb5f7f4ad\n",
            "To: /content/chess_dataset.csv\n",
            "100% 2.73G/2.73G [00:17<00:00, 152MB/s]\n"
          ]
        }
      ]
    },
    {
      "cell_type": "code",
      "source": [
        "def string_to_array(string):\n",
        "    string = string.replace(\"]\", \"\").replace(\"[\", \"\").replace(\"\\n\",\"\").replace(\" \",\"\").replace(\".\",\" \")\n",
        "    #k = '['+k+']'\n",
        "    c = StringIO(string)\n",
        "\n",
        "    ar=loadtxt(c)\n",
        "    return ar.reshape((8,8,12))"
      ],
      "metadata": {
        "id": "B6sb_CaqpnVo"
      },
      "execution_count": null,
      "outputs": []
    },
    {
      "cell_type": "code",
      "source": [
        "df = pd.read_csv(\"chess_dataset.csv\")\n",
        "#df = df[:500_000]"
      ],
      "metadata": {
        "id": "fg0gYubLpvGZ"
      },
      "execution_count": null,
      "outputs": []
    },
    {
      "cell_type": "code",
      "source": [
        "len(df)"
      ],
      "metadata": {
        "id": "ppmW-BO_wZIB",
        "colab": {
          "base_uri": "https://localhost:8080/"
        },
        "outputId": "72aa6ad5-46c9-4971-a9b6-fbc02a2d374d"
      },
      "execution_count": null,
      "outputs": [
        {
          "output_type": "execute_result",
          "data": {
            "text/plain": [
              "1056507"
            ]
          },
          "metadata": {},
          "execution_count": 7
        }
      ]
    },
    {
      "cell_type": "code",
      "source": [
        "df[\"board\"]=df[\"board\"].apply(string_to_array)"
      ],
      "metadata": {
        "id": "epWoLyMYp0jT"
      },
      "execution_count": null,
      "outputs": []
    },
    {
      "cell_type": "code",
      "source": [],
      "metadata": {
        "id": "j0T1Jqmv_uwl"
      },
      "execution_count": null,
      "outputs": []
    },
    {
      "cell_type": "code",
      "source": [
        "df"
      ],
      "metadata": {
        "id": "wAZxCZtKqzfn",
        "colab": {
          "base_uri": "https://localhost:8080/",
          "height": 444
        },
        "outputId": "704537f7-1108-4298-a0fe-54ce822415c3"
      },
      "execution_count": null,
      "outputs": [
        {
          "output_type": "execute_result",
          "data": {
            "text/plain": [
              "                                                     board  fromPosition  \\\n",
              "0        [[[0.0, 0.0, 1.0, 0.0, 0.0, 0.0, 0.0, 0.0, 0.0...            50   \n",
              "1        [[[0.0, 0.0, 1.0, 0.0, 0.0, 0.0, 0.0, 0.0, 0.0...            51   \n",
              "2        [[[0.0, 0.0, 1.0, 0.0, 0.0, 0.0, 0.0, 0.0, 0.0...            34   \n",
              "3        [[[0.0, 0.0, 1.0, 0.0, 0.0, 0.0, 0.0, 0.0, 0.0...            57   \n",
              "4        [[[0.0, 0.0, 1.0, 0.0, 0.0, 0.0, 0.0, 0.0, 0.0...            62   \n",
              "...                                                    ...           ...   \n",
              "1056502  [[[0.0, 0.0, 0.0, 0.0, 0.0, 0.0, 0.0, 0.0, 0.0...            51   \n",
              "1056503  [[[0.0, 0.0, 0.0, 0.0, 0.0, 0.0, 0.0, 0.0, 0.0...            25   \n",
              "1056504  [[[0.0, 0.0, 0.0, 0.0, 0.0, 0.0, 0.0, 0.0, 0.0...            43   \n",
              "1056505  [[[0.0, 0.0, 0.0, 0.0, 0.0, 0.0, 0.0, 0.0, 0.0...            34   \n",
              "1056506  [[[0.0, 0.0, 0.0, 0.0, 0.0, 0.0, 0.0, 0.0, 0.0...            49   \n",
              "\n",
              "         toPosition  player  \n",
              "0                34       0  \n",
              "1                43       0  \n",
              "2                27       0  \n",
              "3                42       0  \n",
              "4                45       0  \n",
              "...             ...     ...  \n",
              "1056502          44       0  \n",
              "1056503          49       0  \n",
              "1056504          34       0  \n",
              "1056505          25       0  \n",
              "1056506          25       0  \n",
              "\n",
              "[1056507 rows x 4 columns]"
            ],
            "text/html": [
              "\n",
              "  <div id=\"df-77741694-4cef-4a3e-a179-fd94e067944e\" class=\"colab-df-container\">\n",
              "    <div>\n",
              "<style scoped>\n",
              "    .dataframe tbody tr th:only-of-type {\n",
              "        vertical-align: middle;\n",
              "    }\n",
              "\n",
              "    .dataframe tbody tr th {\n",
              "        vertical-align: top;\n",
              "    }\n",
              "\n",
              "    .dataframe thead th {\n",
              "        text-align: right;\n",
              "    }\n",
              "</style>\n",
              "<table border=\"1\" class=\"dataframe\">\n",
              "  <thead>\n",
              "    <tr style=\"text-align: right;\">\n",
              "      <th></th>\n",
              "      <th>board</th>\n",
              "      <th>fromPosition</th>\n",
              "      <th>toPosition</th>\n",
              "      <th>player</th>\n",
              "    </tr>\n",
              "  </thead>\n",
              "  <tbody>\n",
              "    <tr>\n",
              "      <th>0</th>\n",
              "      <td>[[[0.0, 0.0, 1.0, 0.0, 0.0, 0.0, 0.0, 0.0, 0.0...</td>\n",
              "      <td>50</td>\n",
              "      <td>34</td>\n",
              "      <td>0</td>\n",
              "    </tr>\n",
              "    <tr>\n",
              "      <th>1</th>\n",
              "      <td>[[[0.0, 0.0, 1.0, 0.0, 0.0, 0.0, 0.0, 0.0, 0.0...</td>\n",
              "      <td>51</td>\n",
              "      <td>43</td>\n",
              "      <td>0</td>\n",
              "    </tr>\n",
              "    <tr>\n",
              "      <th>2</th>\n",
              "      <td>[[[0.0, 0.0, 1.0, 0.0, 0.0, 0.0, 0.0, 0.0, 0.0...</td>\n",
              "      <td>34</td>\n",
              "      <td>27</td>\n",
              "      <td>0</td>\n",
              "    </tr>\n",
              "    <tr>\n",
              "      <th>3</th>\n",
              "      <td>[[[0.0, 0.0, 1.0, 0.0, 0.0, 0.0, 0.0, 0.0, 0.0...</td>\n",
              "      <td>57</td>\n",
              "      <td>42</td>\n",
              "      <td>0</td>\n",
              "    </tr>\n",
              "    <tr>\n",
              "      <th>4</th>\n",
              "      <td>[[[0.0, 0.0, 1.0, 0.0, 0.0, 0.0, 0.0, 0.0, 0.0...</td>\n",
              "      <td>62</td>\n",
              "      <td>45</td>\n",
              "      <td>0</td>\n",
              "    </tr>\n",
              "    <tr>\n",
              "      <th>...</th>\n",
              "      <td>...</td>\n",
              "      <td>...</td>\n",
              "      <td>...</td>\n",
              "      <td>...</td>\n",
              "    </tr>\n",
              "    <tr>\n",
              "      <th>1056502</th>\n",
              "      <td>[[[0.0, 0.0, 0.0, 0.0, 0.0, 0.0, 0.0, 0.0, 0.0...</td>\n",
              "      <td>51</td>\n",
              "      <td>44</td>\n",
              "      <td>0</td>\n",
              "    </tr>\n",
              "    <tr>\n",
              "      <th>1056503</th>\n",
              "      <td>[[[0.0, 0.0, 0.0, 0.0, 0.0, 0.0, 0.0, 0.0, 0.0...</td>\n",
              "      <td>25</td>\n",
              "      <td>49</td>\n",
              "      <td>0</td>\n",
              "    </tr>\n",
              "    <tr>\n",
              "      <th>1056504</th>\n",
              "      <td>[[[0.0, 0.0, 0.0, 0.0, 0.0, 0.0, 0.0, 0.0, 0.0...</td>\n",
              "      <td>43</td>\n",
              "      <td>34</td>\n",
              "      <td>0</td>\n",
              "    </tr>\n",
              "    <tr>\n",
              "      <th>1056505</th>\n",
              "      <td>[[[0.0, 0.0, 0.0, 0.0, 0.0, 0.0, 0.0, 0.0, 0.0...</td>\n",
              "      <td>34</td>\n",
              "      <td>25</td>\n",
              "      <td>0</td>\n",
              "    </tr>\n",
              "    <tr>\n",
              "      <th>1056506</th>\n",
              "      <td>[[[0.0, 0.0, 0.0, 0.0, 0.0, 0.0, 0.0, 0.0, 0.0...</td>\n",
              "      <td>49</td>\n",
              "      <td>25</td>\n",
              "      <td>0</td>\n",
              "    </tr>\n",
              "  </tbody>\n",
              "</table>\n",
              "<p>1056507 rows × 4 columns</p>\n",
              "</div>\n",
              "    <div class=\"colab-df-buttons\">\n",
              "\n",
              "  <div class=\"colab-df-container\">\n",
              "    <button class=\"colab-df-convert\" onclick=\"convertToInteractive('df-77741694-4cef-4a3e-a179-fd94e067944e')\"\n",
              "            title=\"Convert this dataframe to an interactive table.\"\n",
              "            style=\"display:none;\">\n",
              "\n",
              "  <svg xmlns=\"http://www.w3.org/2000/svg\" height=\"24px\" viewBox=\"0 -960 960 960\">\n",
              "    <path d=\"M120-120v-720h720v720H120Zm60-500h600v-160H180v160Zm220 220h160v-160H400v160Zm0 220h160v-160H400v160ZM180-400h160v-160H180v160Zm440 0h160v-160H620v160ZM180-180h160v-160H180v160Zm440 0h160v-160H620v160Z\"/>\n",
              "  </svg>\n",
              "    </button>\n",
              "\n",
              "  <style>\n",
              "    .colab-df-container {\n",
              "      display:flex;\n",
              "      gap: 12px;\n",
              "    }\n",
              "\n",
              "    .colab-df-convert {\n",
              "      background-color: #E8F0FE;\n",
              "      border: none;\n",
              "      border-radius: 50%;\n",
              "      cursor: pointer;\n",
              "      display: none;\n",
              "      fill: #1967D2;\n",
              "      height: 32px;\n",
              "      padding: 0 0 0 0;\n",
              "      width: 32px;\n",
              "    }\n",
              "\n",
              "    .colab-df-convert:hover {\n",
              "      background-color: #E2EBFA;\n",
              "      box-shadow: 0px 1px 2px rgba(60, 64, 67, 0.3), 0px 1px 3px 1px rgba(60, 64, 67, 0.15);\n",
              "      fill: #174EA6;\n",
              "    }\n",
              "\n",
              "    .colab-df-buttons div {\n",
              "      margin-bottom: 4px;\n",
              "    }\n",
              "\n",
              "    [theme=dark] .colab-df-convert {\n",
              "      background-color: #3B4455;\n",
              "      fill: #D2E3FC;\n",
              "    }\n",
              "\n",
              "    [theme=dark] .colab-df-convert:hover {\n",
              "      background-color: #434B5C;\n",
              "      box-shadow: 0px 1px 3px 1px rgba(0, 0, 0, 0.15);\n",
              "      filter: drop-shadow(0px 1px 2px rgba(0, 0, 0, 0.3));\n",
              "      fill: #FFFFFF;\n",
              "    }\n",
              "  </style>\n",
              "\n",
              "    <script>\n",
              "      const buttonEl =\n",
              "        document.querySelector('#df-77741694-4cef-4a3e-a179-fd94e067944e button.colab-df-convert');\n",
              "      buttonEl.style.display =\n",
              "        google.colab.kernel.accessAllowed ? 'block' : 'none';\n",
              "\n",
              "      async function convertToInteractive(key) {\n",
              "        const element = document.querySelector('#df-77741694-4cef-4a3e-a179-fd94e067944e');\n",
              "        const dataTable =\n",
              "          await google.colab.kernel.invokeFunction('convertToInteractive',\n",
              "                                                    [key], {});\n",
              "        if (!dataTable) return;\n",
              "\n",
              "        const docLinkHtml = 'Like what you see? Visit the ' +\n",
              "          '<a target=\"_blank\" href=https://colab.research.google.com/notebooks/data_table.ipynb>data table notebook</a>'\n",
              "          + ' to learn more about interactive tables.';\n",
              "        element.innerHTML = '';\n",
              "        dataTable['output_type'] = 'display_data';\n",
              "        await google.colab.output.renderOutput(dataTable, element);\n",
              "        const docLink = document.createElement('div');\n",
              "        docLink.innerHTML = docLinkHtml;\n",
              "        element.appendChild(docLink);\n",
              "      }\n",
              "    </script>\n",
              "  </div>\n",
              "\n",
              "\n",
              "<div id=\"df-762aa429-ea5a-461b-9984-de7642e31d24\">\n",
              "  <button class=\"colab-df-quickchart\" onclick=\"quickchart('df-762aa429-ea5a-461b-9984-de7642e31d24')\"\n",
              "            title=\"Suggest charts\"\n",
              "            style=\"display:none;\">\n",
              "\n",
              "<svg xmlns=\"http://www.w3.org/2000/svg\" height=\"24px\"viewBox=\"0 0 24 24\"\n",
              "     width=\"24px\">\n",
              "    <g>\n",
              "        <path d=\"M19 3H5c-1.1 0-2 .9-2 2v14c0 1.1.9 2 2 2h14c1.1 0 2-.9 2-2V5c0-1.1-.9-2-2-2zM9 17H7v-7h2v7zm4 0h-2V7h2v10zm4 0h-2v-4h2v4z\"/>\n",
              "    </g>\n",
              "</svg>\n",
              "  </button>\n",
              "\n",
              "<style>\n",
              "  .colab-df-quickchart {\n",
              "      --bg-color: #E8F0FE;\n",
              "      --fill-color: #1967D2;\n",
              "      --hover-bg-color: #E2EBFA;\n",
              "      --hover-fill-color: #174EA6;\n",
              "      --disabled-fill-color: #AAA;\n",
              "      --disabled-bg-color: #DDD;\n",
              "  }\n",
              "\n",
              "  [theme=dark] .colab-df-quickchart {\n",
              "      --bg-color: #3B4455;\n",
              "      --fill-color: #D2E3FC;\n",
              "      --hover-bg-color: #434B5C;\n",
              "      --hover-fill-color: #FFFFFF;\n",
              "      --disabled-bg-color: #3B4455;\n",
              "      --disabled-fill-color: #666;\n",
              "  }\n",
              "\n",
              "  .colab-df-quickchart {\n",
              "    background-color: var(--bg-color);\n",
              "    border: none;\n",
              "    border-radius: 50%;\n",
              "    cursor: pointer;\n",
              "    display: none;\n",
              "    fill: var(--fill-color);\n",
              "    height: 32px;\n",
              "    padding: 0;\n",
              "    width: 32px;\n",
              "  }\n",
              "\n",
              "  .colab-df-quickchart:hover {\n",
              "    background-color: var(--hover-bg-color);\n",
              "    box-shadow: 0 1px 2px rgba(60, 64, 67, 0.3), 0 1px 3px 1px rgba(60, 64, 67, 0.15);\n",
              "    fill: var(--button-hover-fill-color);\n",
              "  }\n",
              "\n",
              "  .colab-df-quickchart-complete:disabled,\n",
              "  .colab-df-quickchart-complete:disabled:hover {\n",
              "    background-color: var(--disabled-bg-color);\n",
              "    fill: var(--disabled-fill-color);\n",
              "    box-shadow: none;\n",
              "  }\n",
              "\n",
              "  .colab-df-spinner {\n",
              "    border: 2px solid var(--fill-color);\n",
              "    border-color: transparent;\n",
              "    border-bottom-color: var(--fill-color);\n",
              "    animation:\n",
              "      spin 1s steps(1) infinite;\n",
              "  }\n",
              "\n",
              "  @keyframes spin {\n",
              "    0% {\n",
              "      border-color: transparent;\n",
              "      border-bottom-color: var(--fill-color);\n",
              "      border-left-color: var(--fill-color);\n",
              "    }\n",
              "    20% {\n",
              "      border-color: transparent;\n",
              "      border-left-color: var(--fill-color);\n",
              "      border-top-color: var(--fill-color);\n",
              "    }\n",
              "    30% {\n",
              "      border-color: transparent;\n",
              "      border-left-color: var(--fill-color);\n",
              "      border-top-color: var(--fill-color);\n",
              "      border-right-color: var(--fill-color);\n",
              "    }\n",
              "    40% {\n",
              "      border-color: transparent;\n",
              "      border-right-color: var(--fill-color);\n",
              "      border-top-color: var(--fill-color);\n",
              "    }\n",
              "    60% {\n",
              "      border-color: transparent;\n",
              "      border-right-color: var(--fill-color);\n",
              "    }\n",
              "    80% {\n",
              "      border-color: transparent;\n",
              "      border-right-color: var(--fill-color);\n",
              "      border-bottom-color: var(--fill-color);\n",
              "    }\n",
              "    90% {\n",
              "      border-color: transparent;\n",
              "      border-bottom-color: var(--fill-color);\n",
              "    }\n",
              "  }\n",
              "</style>\n",
              "\n",
              "  <script>\n",
              "    async function quickchart(key) {\n",
              "      const quickchartButtonEl =\n",
              "        document.querySelector('#' + key + ' button');\n",
              "      quickchartButtonEl.disabled = true;  // To prevent multiple clicks.\n",
              "      quickchartButtonEl.classList.add('colab-df-spinner');\n",
              "      try {\n",
              "        const charts = await google.colab.kernel.invokeFunction(\n",
              "            'suggestCharts', [key], {});\n",
              "      } catch (error) {\n",
              "        console.error('Error during call to suggestCharts:', error);\n",
              "      }\n",
              "      quickchartButtonEl.classList.remove('colab-df-spinner');\n",
              "      quickchartButtonEl.classList.add('colab-df-quickchart-complete');\n",
              "    }\n",
              "    (() => {\n",
              "      let quickchartButtonEl =\n",
              "        document.querySelector('#df-762aa429-ea5a-461b-9984-de7642e31d24 button');\n",
              "      quickchartButtonEl.style.display =\n",
              "        google.colab.kernel.accessAllowed ? 'block' : 'none';\n",
              "    })();\n",
              "  </script>\n",
              "</div>\n",
              "    </div>\n",
              "  </div>\n"
            ],
            "application/vnd.google.colaboratory.intrinsic+json": {
              "type": "dataframe",
              "variable_name": "df"
            }
          },
          "metadata": {},
          "execution_count": 9
        }
      ]
    },
    {
      "cell_type": "code",
      "source": [
        "df_train, df_test = train_test_split(df, test_size=0.2)"
      ],
      "metadata": {
        "id": "SIjhVtunqfEk"
      },
      "execution_count": null,
      "outputs": []
    },
    {
      "cell_type": "code",
      "source": [
        "def one_hot_encode(num, length=64):\n",
        "    enc = np.zeros(length)\n",
        "    enc[num]=1\n",
        "    return enc"
      ],
      "metadata": {
        "id": "DjyVb-PFt4fK"
      },
      "execution_count": null,
      "outputs": []
    },
    {
      "cell_type": "code",
      "source": [
        "class ChessDataset(Dataset):\n",
        "  def __init__(self, dataset):\n",
        "    super(ChessDataset,self).__init__()\n",
        "    self.dataset = dataset\n",
        "\n",
        "  def __len__(self):\n",
        "      return len(self.dataset)\n",
        "\n",
        "  def __getitem__(self, idx):\n",
        "    # get audio data\n",
        "    row = df.loc[idx]\n",
        "    board=row[\"board\"]\n",
        "    from_position = row['fromPosition']\n",
        "    player = row['player']\n",
        "    # Convert to torch tensors with appropriate data types\n",
        "    board_tensor = torch.FloatTensor(board)\n",
        "    from_position_tensor = torch.tensor(one_hot_encode(from_position), dtype=torch.float32)\n",
        "    player_tensor = torch.tensor(player, dtype=torch.float32)\n",
        "    # Get label\n",
        "    label = torch.tensor(one_hot_encode(row['toPosition']), dtype=torch.float32)\n",
        "\n",
        "    # Return tuple of inputs and label\n",
        "\n",
        "    return (board_tensor, from_position_tensor, player_tensor), label"
      ],
      "metadata": {
        "id": "rNMUXwX-p29V"
      },
      "execution_count": null,
      "outputs": []
    },
    {
      "cell_type": "code",
      "source": [
        "train_dataset = ChessDataset(df_train)\n",
        "test_dataset = ChessDataset(df_test)"
      ],
      "metadata": {
        "id": "o7j9aK5LqXx7"
      },
      "execution_count": null,
      "outputs": []
    },
    {
      "cell_type": "code",
      "source": [
        "train_loader = DataLoader(train_dataset, batch_size=32)\n",
        "test_loader = DataLoader(test_dataset, batch_size=32)"
      ],
      "metadata": {
        "id": "WeY9vjdcrqI6"
      },
      "execution_count": null,
      "outputs": []
    },
    {
      "cell_type": "code",
      "source": [
        "for i,_ in train_loader:\n",
        "  print(i[2].shape)\n",
        "  break"
      ],
      "metadata": {
        "id": "fQB-AV5croPA",
        "colab": {
          "base_uri": "https://localhost:8080/"
        },
        "outputId": "d923750c-f4e2-4819-ab1e-d07c1dab5466"
      },
      "execution_count": null,
      "outputs": [
        {
          "output_type": "stream",
          "name": "stdout",
          "text": [
            "torch.Size([32])\n"
          ]
        }
      ]
    },
    {
      "cell_type": "code",
      "source": [
        "for i,d in train_dataset:\n",
        "  print(i[2].view(-1,1).shape)\n",
        "  break"
      ],
      "metadata": {
        "id": "0ifC5XfFrPvG",
        "colab": {
          "base_uri": "https://localhost:8080/"
        },
        "outputId": "e78fb819-e9bd-4ae5-adc6-2e34aad57782"
      },
      "execution_count": null,
      "outputs": [
        {
          "output_type": "stream",
          "name": "stdout",
          "text": [
            "torch.Size([1, 1])\n"
          ]
        }
      ]
    },
    {
      "cell_type": "code",
      "source": [
        "number_of_classes=64"
      ],
      "metadata": {
        "id": "NjmvjmT1zue_"
      },
      "execution_count": null,
      "outputs": []
    },
    {
      "cell_type": "markdown",
      "source": [
        "# Create model"
      ],
      "metadata": {
        "id": "iZVUkujzxpiM"
      }
    },
    {
      "cell_type": "code",
      "source": [
        "device = torch.device('cuda:0' if torch.cuda.is_available() else 'cpu')\n",
        "print(device)"
      ],
      "metadata": {
        "id": "55XFIGqArWuJ",
        "colab": {
          "base_uri": "https://localhost:8080/"
        },
        "outputId": "4496c499-51ab-4d1a-c467-1310988e62e4"
      },
      "execution_count": null,
      "outputs": [
        {
          "output_type": "stream",
          "name": "stdout",
          "text": [
            "cuda:0\n"
          ]
        }
      ]
    },
    {
      "cell_type": "code",
      "source": [
        "bada=[]"
      ],
      "metadata": {
        "id": "fNYaMkVv1wup"
      },
      "execution_count": null,
      "outputs": []
    },
    {
      "cell_type": "code",
      "source": [
        "class ChessDecoder:\n",
        "      def __init__(self):\n",
        "          self.pieces={\n",
        "          chess.Piece(chess.PAWN, chess.WHITE): 0,\n",
        "          chess.Piece(chess.PAWN, chess.BLACK): 1,\n",
        "          chess.Piece(chess.ROOK, chess.WHITE): 2,\n",
        "          chess.Piece(chess.ROOK, chess.BLACK): 3,\n",
        "          chess.Piece(chess.KNIGHT, chess.WHITE): 4,\n",
        "          chess.Piece(chess.KNIGHT, chess.BLACK): 5,\n",
        "          chess.Piece(chess.BISHOP, chess.WHITE): 6,\n",
        "          chess.Piece(chess.BISHOP, chess.BLACK): 7,\n",
        "          chess.Piece(chess.QUEEN, chess.WHITE): 8,\n",
        "          chess.Piece(chess.QUEEN, chess.BLACK): 9,\n",
        "          chess.Piece(chess.KING, chess.WHITE): 10,\n",
        "          chess.Piece(chess.KING, chess.BLACK): 11,\n",
        "        }\n",
        "          self.reverse_pieces = {value: key for key, value in self.pieces.items()}\n",
        "      def getPiece(self,encoding):\n",
        "          if torch.equal(encoding, torch.zeros(12).to(device)):\n",
        "            return None\n",
        "\n",
        "          return self.reverse_pieces[torch.argmax(encoding).item()]\n",
        "\n",
        "      def getPieceEncoding(self,piece):\n",
        "          if piece is not None:\n",
        "              return one_hot_encode(self.pieces[piece],length=12)\n",
        "          return torch.zeros(12)\n",
        "\n",
        "      def decodeBoardPosition(self, encodedBoard,turn):\n",
        "          encodedBoard=encodedBoard.reshape(64,-1)\n",
        "          board=chess.Board()\n",
        "          board.turn=turn\n",
        "          for square in range(64):\n",
        "              board.set_piece_at(square,self.getPiece(encodedBoard[square]))\n",
        "          return board\n",
        "      def getAllowedMoves(self,b,square,winner,en_passant=False):\n",
        "              global bada\n",
        "              board = self.decodeBoardPosition(b,winner)\n",
        "              print(type(board))\n",
        "              isLeftEdge=square%8!=0\n",
        "              isRightEdge=square%8!=7\n",
        "              if en_passant:\n",
        "                if winner ==chess.BLACK:\n",
        "                    if isLeftEdge:\n",
        "                      board.ep_square = square-9\n",
        "                    if isRightEdge:\n",
        "                      board.ep_square = square-7\n",
        "                else:\n",
        "                    if isRightEdge:\n",
        "                      board.ep_square = square+9\n",
        "                    if isLeftEdge:\n",
        "                      board.ep_square = square+7\n",
        "              allowedMoves = [move.to_square for move in board.pseudo_legal_moves if move.from_square == square]\n",
        "              if not allowedMoves:\n",
        "                return self.getAllowedMoves(b,square,winner,en_passant=True)\n",
        "              return allowedMoves\n",
        "\n",
        "      def getMask(self,encodedBoard,from_square,player,mask_size):\n",
        "          mask = torch.zeros(mask_size, 64).to(device)  # Initialize mask with zeros\n",
        "          #mask.fill_(-10)\n",
        "\n",
        "          for i,board in enumerate(encodedBoard):\n",
        "              winner = bool(player[i].item())\n",
        "              square=torch.argmax(from_square[i]).item()\n",
        "\n",
        "              allowedMoves=[]\n",
        "              allowedMoves = self.getAllowedMoves(board,square,winner)\n",
        "             # mask[i, allowedMoves] = 0\n",
        "              mask[i, allowedMoves] = 1\n",
        "          return mask\n",
        "      def encodeBoard(self,board):\n",
        "        encodedBoard=np.zeros((64,12))\n",
        "        for square in range(64):\n",
        "            piece = board.piece_at(square)\n",
        "            encodedBoard[square]=self.getPieceEncoding(piece)\n",
        "        return encodedBoard.reshape(8,8,12)\n",
        "\n",
        "      def getWinner(game):\n",
        "        if game.headers['Result'] ==\"1-0\":\n",
        "            return chess.WHITE\n",
        "        return chess.BLACK\n",
        "\n",
        "      def encodeGame(self,game):\n",
        "        board = chess.Board()\n",
        "        data=[]\n",
        "        winner = self.getWinner(game)\n",
        "        # Go through each move in the game until\n",
        "        # we reach the required move number\n",
        "        for move in game.mainline_moves():\n",
        "            if board.turn==winner:\n",
        "                encodedBoard=self.encodeBoard(board)\n",
        "                data.append([encodedBoard,move.from_square,move.to_square,int(winner)])\n",
        "            board.push(move)\n",
        "        return data"
      ],
      "metadata": {
        "id": "AlhhVS6ZToi2"
      },
      "execution_count": null,
      "outputs": []
    },
    {
      "cell_type": "code",
      "source": [
        "class CNN(nn.Module):\n",
        "  def __init__(self, n_inputs, n_outputs):\n",
        "    super(CNN,self).__init__()\n",
        "    self.D = n_inputs\n",
        "    self.K = n_outputs\n",
        "    self.conv1 = nn.Sequential(\n",
        "      nn.Conv2d(self.D, 32, kernel_size=5, padding=2,stride=1),\n",
        "      nn.ReLU(),\n",
        "      nn.Conv2d(32, 64, kernel_size=3,padding=1,stride=1),\n",
        "      nn.BatchNorm2d(64),\n",
        "      nn.ReLU(),\n",
        "      #nn.MaxPool2d(2,stride=2)\n",
        "    )\n",
        "\n",
        "    self.conv2 = nn.Sequential(\n",
        "      nn.Conv2d(64, 128, kernel_size=3,padding=3,stride=1),\n",
        "      nn.ReLU(),\n",
        "      nn.Conv2d(128, 256, kernel_size=3,padding=2,stride=1),\n",
        "      nn.BatchNorm2d(256),\n",
        "      nn.ReLU(),\n",
        "     #nn.MaxPool2d(2)\n",
        "    )\n",
        "\n",
        "    self.conv3 = nn.Sequential(\n",
        "      nn.Conv2d(256, 512, kernel_size=2,padding=0,stride=1),\n",
        "      nn.BatchNorm2d(512),\n",
        "      nn.ReLU(),\n",
        "     # nn.MaxPool2d(2)\n",
        "    )\n",
        "    self.conv4 = nn.Sequential(\n",
        "      nn.Conv2d(512, 512, kernel_size=2,padding=0,stride=1),\n",
        "      nn.BatchNorm2d(512),\n",
        "      nn.ReLU(),\n",
        "      #nn.MaxPool2d(2)\n",
        "    )\n",
        "    self.fc = nn.Sequential(\n",
        "      nn.Dropout(0.5),\n",
        "      nn.Linear(73728,10240),\n",
        "      nn.ReLU(),\n",
        "      nn.Linear(10240, 5120),\n",
        "      #nn.ReLU(),\n",
        "      nn.Linear(5120, 2056),\n",
        "      nn.ReLU(),\n",
        "      nn.Linear(2056, self.K),\n",
        "      nn.ReLU()\n",
        "    )\n",
        "\n",
        "  def forward(self,X):\n",
        "   # X = torch.unsqueeze(X,1)\n",
        "\n",
        "    out = self.conv1(X)\n",
        "\n",
        "    out = self.conv2(out)\n",
        "\n",
        "    out = self.conv3(out)\n",
        "\n",
        "    out = self.conv4(out)\n",
        "    #out = self.conv5(out)\n",
        "\n",
        "    #out, _  = torch.max(out, -1)\n",
        "    out = out.view(out.size(0), -1)\n",
        "    out = self.fc(out)\n",
        "    return out\n",
        "\n"
      ],
      "metadata": {
        "id": "S2f4VJLyxr0x"
      },
      "execution_count": null,
      "outputs": []
    },
    {
      "cell_type": "code",
      "source": [
        "class ChessModel(nn.Module):\n",
        "  def __init__(self, hidden_outputs, n_outputs,device):\n",
        "    super(ChessModel,self).__init__()\n",
        "\n",
        "    self.HO=hidden_outputs\n",
        "    self.K = n_outputs\n",
        "    self.device=device\n",
        "    #self.cnn = CNN(n_inputs=12, n_outputs=self.HO)\n",
        "    self.chessDecoder=ChessDecoder()\n",
        "    self.fcPosition = nn.Sequential(\n",
        "        nn.Linear(64,128),\n",
        "        nn.ReLU(),\n",
        "        nn.Linear(128,128),\n",
        "        nn.ReLU(),\n",
        "        nn.Linear(128,64),\n",
        "        nn.ReLU())\n",
        "    self.fcPlayer = nn.Sequential(\n",
        "        nn.Linear(1,64),\n",
        "        nn.ReLU(),\n",
        "        nn.Linear(64,64),\n",
        "        nn.ReLU(),\n",
        "        nn.Linear(64,32),\n",
        "        nn.ReLU())\n",
        "    self.fc = nn.Sequential(\n",
        "        nn.Linear(768+64+32,4096),\n",
        "        nn.ReLU(),\n",
        "        nn.Linear(4096,4096),\n",
        "        nn.ReLU(),\n",
        "        nn.Linear(4096,2048),\n",
        "        nn.ReLU(),\n",
        "        nn.Linear(2048,self.K))\n",
        "\n",
        "  def forward(self,X):\n",
        "    #cnn_outputs = self.cnn(X[0])\n",
        "    position_outputs = self.fcPosition(X[1])\n",
        "    player_outputs = self.fcPlayer(X[2])\n",
        "    out = torch.cat((X[0].view(X[0].size(0),-1),position_outputs,player_outputs),1)\n",
        "   # out = torch.cat((cnn_outputs,position_outputs,palyer_outputs),1)\n",
        "    out = self.fc(out)\n",
        "    #out = torch.softmax(out,dim=1)\n",
        "   # mask=self.chessDecoder.getMask(X[0],X[1],X[2],out.size(0))\n",
        "    #out=out*mask\n",
        "    #out = out / out.sum(dim=1, keepdim=True)\n",
        "    return out"
      ],
      "metadata": {
        "id": "G4izrFSlx3hk"
      },
      "execution_count": null,
      "outputs": []
    },
    {
      "cell_type": "code",
      "source": [
        "model = ChessModel(\n",
        "            hidden_outputs = 512,\n",
        "            n_outputs=number_of_classes,\n",
        "            device=device)\n",
        "model.to(device)"
      ],
      "metadata": {
        "id": "U1A5xpy-zr4f",
        "colab": {
          "base_uri": "https://localhost:8080/"
        },
        "outputId": "908a111b-6a03-413e-9141-46db9022f960"
      },
      "execution_count": null,
      "outputs": [
        {
          "output_type": "execute_result",
          "data": {
            "text/plain": [
              "ChessModel(\n",
              "  (fcPosition): Sequential(\n",
              "    (0): Linear(in_features=64, out_features=128, bias=True)\n",
              "    (1): ReLU()\n",
              "    (2): Linear(in_features=128, out_features=128, bias=True)\n",
              "    (3): ReLU()\n",
              "    (4): Linear(in_features=128, out_features=64, bias=True)\n",
              "    (5): ReLU()\n",
              "  )\n",
              "  (fcPlayer): Sequential(\n",
              "    (0): Linear(in_features=1, out_features=64, bias=True)\n",
              "    (1): ReLU()\n",
              "    (2): Linear(in_features=64, out_features=64, bias=True)\n",
              "    (3): ReLU()\n",
              "    (4): Linear(in_features=64, out_features=32, bias=True)\n",
              "    (5): ReLU()\n",
              "  )\n",
              "  (fc): Sequential(\n",
              "    (0): Linear(in_features=864, out_features=4096, bias=True)\n",
              "    (1): ReLU()\n",
              "    (2): Linear(in_features=4096, out_features=4096, bias=True)\n",
              "    (3): ReLU()\n",
              "    (4): Linear(in_features=4096, out_features=2048, bias=True)\n",
              "    (5): ReLU()\n",
              "    (6): Linear(in_features=2048, out_features=64, bias=True)\n",
              "  )\n",
              ")"
            ]
          },
          "metadata": {},
          "execution_count": 34
        }
      ]
    },
    {
      "cell_type": "code",
      "source": [
        "criterion = nn.CrossEntropyLoss()\n",
        "chessDecoder=ChessDecoder()\n",
        "l=0\n",
        "for i, k in train_loader:\n",
        " # print(i[0].shape)\n",
        " # i = i.view(i.size(0),1,i.size(1),i.size(2))\n",
        "  l+=1\n",
        "  i = i[0].reshape((-1,12,8,8)).to(device),i[1].to(device),i[2].view(-1,1).to(device)\n",
        "  #print(k[0][34])\n",
        "  out = model(i)\n",
        "  if np.isnan(criterion(out,k.to(device)).item()):\n",
        "    print(out[0])\n",
        "\n",
        "  #print(criterion(out,k.to(device)).item())\n",
        "  #print(type(criterion(out,k.to(device)).item()))\n",
        "  break\n",
        "  #print(np.max(lak[0].cpu().detach().numpy()))\n",
        "  #print(lak.size())\n"
      ],
      "metadata": {
        "id": "0hTr5w6wzyr3"
      },
      "execution_count": null,
      "outputs": []
    },
    {
      "cell_type": "code",
      "source": [],
      "metadata": {
        "id": "HgXYMvNC48k2"
      },
      "execution_count": null,
      "outputs": []
    },
    {
      "cell_type": "markdown",
      "source": [
        "# Train model"
      ],
      "metadata": {
        "id": "9vKQJkMZ1zZ0"
      }
    },
    {
      "cell_type": "code",
      "source": [
        "criterion = nn.CrossEntropyLoss()\n",
        "optimizer = torch.optim.Adam(model.parameters(),lr=0.0001)"
      ],
      "metadata": {
        "id": "ZYObutpp9a0d"
      },
      "execution_count": null,
      "outputs": []
    },
    {
      "cell_type": "code",
      "execution_count": null,
      "metadata": {
        "id": "Ylgt4c6jJuUM"
      },
      "outputs": [],
      "source": [
        "def save_model_checkpoint(val_loss, best_val_loss, train_loss, it, model=model, optimizer=optimizer,path='model_checkpoint.pt'):\n",
        "    torch.save({\n",
        "            'epoch': it,\n",
        "            'model_state_dict': model.state_dict(),\n",
        "            'optimizer_state_dict': optimizer.state_dict(),\n",
        "            'train_loss': train_loss,\n",
        "            'val_loss': val_loss,\n",
        "            }, path)\n",
        "    print(f'Model saved at epoch: {it+1}, val_loss improved from: {best_val_loss:.4f} to: {val_loss:.4f}')"
      ]
    },
    {
      "cell_type": "code",
      "execution_count": null,
      "metadata": {
        "id": "Lv_VZleNOGYK"
      },
      "outputs": [],
      "source": [
        "def plot_loss_curves(train_losses,val_losses,train_losses2=None,val_losses2=None):\n",
        "  if(train_losses2 is not None):\n",
        "    train_losses = np.concatenate((train_losses,train_losses2))\n",
        "    val_losses = np.concatenate((val_losses,val_losses2))\n",
        "  plt.plot(train_losses,label='Train loss')\n",
        "  plt.plot(val_losses,label='Val loss')\n",
        "  plt.legend(); plt.show\n",
        "best_val_loss=10**5"
      ]
    },
    {
      "cell_type": "code",
      "source": [
        "epoches=50\n",
        "train_losses = np.zeros(epoches)\n",
        "val_losses = np.zeros(epoches)\n",
        "\n",
        "for it in range(epoches):\n",
        "  t0 = datetime.now()\n",
        "  model.train() # set model to train mode\n",
        "  train_loss=[]\n",
        "  val_loss=[]\n",
        "\n",
        "  # train\n",
        "  for inputs,targets in train_loader:\n",
        "    # move data to gpu\n",
        "    inputs= inputs[0].reshape((-1,12,8,8)).to(device),inputs[1].to(device),inputs[2].view(-1,1).to(device)\n",
        "\n",
        "    targets = targets.to(device)\n",
        "    #inputs = inputs.permute(0,2,1)\n",
        "    # zero gradients\n",
        "    optimizer.zero_grad()\n",
        "\n",
        "    # forward pass\n",
        "    outputs = model(inputs)\n",
        "    loss = criterion(outputs,targets)\n",
        "\n",
        "    # backward\n",
        "    loss.backward()\n",
        "    optimizer.step()\n",
        "\n",
        "    train_loss.append(loss.item())\n",
        "  model.eval() # set model to eval mode\n",
        "  for inputs,targets in test_loader:\n",
        "    # move data to gpu\n",
        "    inputs= inputs[0].reshape((-1,12,8,8)).to(device),inputs[1].to(device),inputs[2].view(-1,1).to(device)\n",
        "    targets = targets.to(device)\n",
        "   # inputs = inputs.permute(0,2,1)\n",
        "\n",
        "\n",
        "    # forward pass\n",
        "    outputs = model(inputs)\n",
        "    loss = criterion(outputs,targets)\n",
        "\n",
        "    val_loss.append(loss.item())\n",
        "\n",
        "  # calculate loss\n",
        "  train_loss = np.mean(train_loss)\n",
        "  val_loss = np.mean(val_loss)\n",
        "  if (val_loss<best_val_loss):\n",
        "    save_model_checkpoint(val_loss,best_val_loss,train_loss,it, path='model_checkpoint.pt')\n",
        "    best_val_loss=val_loss\n",
        "  # append loss\n",
        "  train_losses[it]=train_loss\n",
        "  val_losses[it]=val_loss\n",
        "  dt = datetime.now() - t0\n",
        "  print(f\"Epoch {it+1}/{epoches}, Train loss: {train_loss:.4f}, Val loss: {val_loss:.4f}, Duration: {dt}\")\n",
        "  print('------------------------------------------------------------------------')"
      ],
      "metadata": {
        "colab": {
          "base_uri": "https://localhost:8080/",
          "height": 1000
        },
        "id": "O4kbPPli9Mre",
        "outputId": "63645f2e-4d34-443f-a498-f183ecdb3e74"
      },
      "execution_count": null,
      "outputs": [
        {
          "output_type": "stream",
          "name": "stdout",
          "text": [
            "Model saved at epoch: 1, val_loss improved from: 100000.0000 to: 1.6206\n",
            "Epoch 1/50, Train loss: 2.1438, Val loss: 1.6206, Duration: 0:04:50.938335\n",
            "-------------------------------------------------------------\n",
            "Model saved at epoch: 2, val_loss improved from: 1.6206 to: 1.2380\n",
            "Epoch 2/50, Train loss: 1.4221, Val loss: 1.2380, Duration: 0:04:49.970269\n",
            "-------------------------------------------------------------\n",
            "Model saved at epoch: 3, val_loss improved from: 1.2380 to: 0.9965\n",
            "Epoch 3/50, Train loss: 1.1061, Val loss: 0.9965, Duration: 0:04:52.814412\n",
            "-------------------------------------------------------------\n",
            "Model saved at epoch: 4, val_loss improved from: 0.9965 to: 0.7982\n",
            "Epoch 4/50, Train loss: 0.8463, Val loss: 0.7982, Duration: 0:04:48.400356\n",
            "-------------------------------------------------------------\n",
            "Model saved at epoch: 5, val_loss improved from: 0.7982 to: 0.6233\n",
            "Epoch 5/50, Train loss: 0.6017, Val loss: 0.6233, Duration: 0:04:47.413008\n",
            "-------------------------------------------------------------\n",
            "Model saved at epoch: 6, val_loss improved from: 0.6233 to: 0.5025\n",
            "Epoch 6/50, Train loss: 0.3966, Val loss: 0.5025, Duration: 0:04:51.092943\n",
            "-------------------------------------------------------------\n",
            "Model saved at epoch: 7, val_loss improved from: 0.5025 to: 0.4218\n",
            "Epoch 7/50, Train loss: 0.2756, Val loss: 0.4218, Duration: 0:04:48.621483\n",
            "-------------------------------------------------------------\n",
            "Model saved at epoch: 8, val_loss improved from: 0.4218 to: 0.3457\n",
            "Epoch 8/50, Train loss: 0.2221, Val loss: 0.3457, Duration: 0:04:29.495386\n",
            "-------------------------------------------------------------\n",
            "Model saved at epoch: 9, val_loss improved from: 0.3457 to: 0.3039\n",
            "Epoch 9/50, Train loss: 0.1866, Val loss: 0.3039, Duration: 0:04:39.628019\n",
            "-------------------------------------------------------------\n",
            "Model saved at epoch: 10, val_loss improved from: 0.3039 to: 0.2728\n",
            "Epoch 10/50, Train loss: 0.1648, Val loss: 0.2728, Duration: 0:04:52.686935\n",
            "-------------------------------------------------------------\n",
            "Model saved at epoch: 11, val_loss improved from: 0.2728 to: 0.2339\n",
            "Epoch 11/50, Train loss: 0.1484, Val loss: 0.2339, Duration: 0:04:51.864361\n",
            "-------------------------------------------------------------\n",
            "Model saved at epoch: 12, val_loss improved from: 0.2339 to: 0.2245\n",
            "Epoch 12/50, Train loss: 0.1359, Val loss: 0.2245, Duration: 0:04:51.268765\n",
            "-------------------------------------------------------------\n",
            "Model saved at epoch: 13, val_loss improved from: 0.2245 to: 0.2048\n",
            "Epoch 13/50, Train loss: 0.1246, Val loss: 0.2048, Duration: 0:04:51.650471\n",
            "-------------------------------------------------------------\n",
            "Model saved at epoch: 14, val_loss improved from: 0.2048 to: 0.1861\n",
            "Epoch 14/50, Train loss: 0.1176, Val loss: 0.1861, Duration: 0:04:51.610871\n",
            "-------------------------------------------------------------\n",
            "Model saved at epoch: 15, val_loss improved from: 0.1861 to: 0.1791\n",
            "Epoch 15/50, Train loss: 0.1120, Val loss: 0.1791, Duration: 0:04:51.445313\n",
            "-------------------------------------------------------------\n",
            "Epoch 16/50, Train loss: 0.1055, Val loss: 0.1890, Duration: 0:04:52.530025\n",
            "-------------------------------------------------------------\n",
            "Model saved at epoch: 17, val_loss improved from: 0.1791 to: 0.1577\n",
            "Epoch 17/50, Train loss: 0.1001, Val loss: 0.1577, Duration: 0:04:51.236292\n",
            "-------------------------------------------------------------\n",
            "Model saved at epoch: 18, val_loss improved from: 0.1577 to: 0.1523\n",
            "Epoch 18/50, Train loss: 0.0961, Val loss: 0.1523, Duration: 0:04:48.855104\n",
            "-------------------------------------------------------------\n",
            "Model saved at epoch: 19, val_loss improved from: 0.1523 to: 0.1368\n",
            "Epoch 19/50, Train loss: 0.0922, Val loss: 0.1368, Duration: 0:04:46.808566\n",
            "-------------------------------------------------------------\n",
            "Epoch 20/50, Train loss: 0.0892, Val loss: 0.1441, Duration: 0:04:46.640657\n",
            "-------------------------------------------------------------\n",
            "Model saved at epoch: 21, val_loss improved from: 0.1368 to: 0.1298\n",
            "Epoch 21/50, Train loss: 0.0866, Val loss: 0.1298, Duration: 0:04:44.969097\n",
            "-------------------------------------------------------------\n",
            "Epoch 22/50, Train loss: 0.0838, Val loss: 0.1404, Duration: 0:04:43.501768\n",
            "-------------------------------------------------------------\n",
            "Epoch 23/50, Train loss: 0.0820, Val loss: 0.1322, Duration: 0:04:50.365462\n",
            "-------------------------------------------------------------\n",
            "Model saved at epoch: 24, val_loss improved from: 0.1298 to: 0.1221\n",
            "Epoch 24/50, Train loss: 0.0798, Val loss: 0.1221, Duration: 0:04:48.025141\n",
            "-------------------------------------------------------------\n",
            "Model saved at epoch: 25, val_loss improved from: 0.1221 to: 0.1209\n",
            "Epoch 25/50, Train loss: 0.0775, Val loss: 0.1209, Duration: 0:04:47.695941\n",
            "-------------------------------------------------------------\n",
            "Model saved at epoch: 26, val_loss improved from: 0.1209 to: 0.1104\n",
            "Epoch 26/50, Train loss: 0.0754, Val loss: 0.1104, Duration: 0:04:49.047010\n",
            "-------------------------------------------------------------\n",
            "Model saved at epoch: 27, val_loss improved from: 0.1104 to: 0.1089\n",
            "Epoch 27/50, Train loss: 0.0739, Val loss: 0.1089, Duration: 0:04:48.720994\n",
            "-------------------------------------------------------------\n",
            "Epoch 28/50, Train loss: 0.0724, Val loss: 0.1153, Duration: 0:04:50.921228\n",
            "-------------------------------------------------------------\n",
            "Model saved at epoch: 29, val_loss improved from: 0.1089 to: 0.1014\n",
            "Epoch 29/50, Train loss: 0.0709, Val loss: 0.1014, Duration: 0:04:48.889402\n",
            "-------------------------------------------------------------\n",
            "Epoch 30/50, Train loss: 0.0701, Val loss: 0.1030, Duration: 0:04:46.528295\n",
            "-------------------------------------------------------------\n",
            "Model saved at epoch: 31, val_loss improved from: 0.1014 to: 0.0985\n",
            "Epoch 31/50, Train loss: 0.0688, Val loss: 0.0985, Duration: 0:04:46.616871\n",
            "-------------------------------------------------------------\n",
            "Epoch 32/50, Train loss: 0.0678, Val loss: 0.0999, Duration: 0:04:48.198567\n",
            "-------------------------------------------------------------\n",
            "Epoch 33/50, Train loss: 0.0674, Val loss: 0.1001, Duration: 0:04:48.503655\n",
            "-------------------------------------------------------------\n",
            "Epoch 34/50, Train loss: 0.0663, Val loss: 0.1016, Duration: 0:04:46.442245\n",
            "-------------------------------------------------------------\n",
            "Model saved at epoch: 35, val_loss improved from: 0.0985 to: 0.0966\n",
            "Epoch 35/50, Train loss: 0.0660, Val loss: 0.0966, Duration: 0:04:46.090515\n",
            "-------------------------------------------------------------\n",
            "Epoch 36/50, Train loss: 0.0655, Val loss: 0.0995, Duration: 0:04:50.850629\n",
            "-------------------------------------------------------------\n",
            "Model saved at epoch: 37, val_loss improved from: 0.0966 to: 0.0961\n",
            "Epoch 37/50, Train loss: 0.0647, Val loss: 0.0961, Duration: 0:04:48.341453\n",
            "-------------------------------------------------------------\n",
            "Model saved at epoch: 38, val_loss improved from: 0.0961 to: 0.0952\n",
            "Epoch 38/50, Train loss: 0.0646, Val loss: 0.0952, Duration: 0:04:49.800586\n",
            "-------------------------------------------------------------\n",
            "Model saved at epoch: 39, val_loss improved from: 0.0952 to: 0.0946\n",
            "Epoch 39/50, Train loss: 0.0647, Val loss: 0.0946, Duration: 0:04:47.246270\n",
            "-------------------------------------------------------------\n",
            "Model saved at epoch: 40, val_loss improved from: 0.0946 to: 0.0895\n",
            "Epoch 40/50, Train loss: 0.0637, Val loss: 0.0895, Duration: 0:04:46.573341\n",
            "-------------------------------------------------------------\n",
            "Epoch 41/50, Train loss: 0.0635, Val loss: 0.0929, Duration: 0:04:48.148274\n",
            "-------------------------------------------------------------\n",
            "Epoch 42/50, Train loss: 0.0640, Val loss: 0.0895, Duration: 0:04:47.373459\n",
            "-------------------------------------------------------------\n",
            "Model saved at epoch: 43, val_loss improved from: 0.0895 to: 0.0890\n",
            "Epoch 43/50, Train loss: 0.0634, Val loss: 0.0890, Duration: 0:04:47.679454\n",
            "-------------------------------------------------------------\n",
            "Model saved at epoch: 44, val_loss improved from: 0.0890 to: 0.0871\n",
            "Epoch 44/50, Train loss: 0.0628, Val loss: 0.0871, Duration: 0:04:48.304642\n",
            "-------------------------------------------------------------\n",
            "Epoch 45/50, Train loss: 0.0632, Val loss: 0.0909, Duration: 0:04:46.030824\n",
            "-------------------------------------------------------------\n",
            "Epoch 46/50, Train loss: 0.0624, Val loss: 0.0924, Duration: 0:04:46.839436\n",
            "-------------------------------------------------------------\n",
            "Epoch 47/50, Train loss: 0.0636, Val loss: 0.0881, Duration: 0:04:47.578597\n",
            "-------------------------------------------------------------\n"
          ]
        },
        {
          "output_type": "error",
          "ename": "KeyboardInterrupt",
          "evalue": "",
          "traceback": [
            "\u001b[0;31m---------------------------------------------------------------------------\u001b[0m",
            "\u001b[0;31mKeyboardInterrupt\u001b[0m                         Traceback (most recent call last)",
            "\u001b[0;32m<ipython-input-28-0256838b9448>\u001b[0m in \u001b[0;36m<cell line: 5>\u001b[0;34m()\u001b[0m\n\u001b[1;32m     10\u001b[0m \u001b[0;34m\u001b[0m\u001b[0m\n\u001b[1;32m     11\u001b[0m   \u001b[0;31m# train\u001b[0m\u001b[0;34m\u001b[0m\u001b[0;34m\u001b[0m\u001b[0m\n\u001b[0;32m---> 12\u001b[0;31m   \u001b[0;32mfor\u001b[0m \u001b[0minputs\u001b[0m\u001b[0;34m,\u001b[0m\u001b[0mtargets\u001b[0m \u001b[0;32min\u001b[0m \u001b[0mtrain_loader\u001b[0m\u001b[0;34m:\u001b[0m\u001b[0;34m\u001b[0m\u001b[0;34m\u001b[0m\u001b[0m\n\u001b[0m\u001b[1;32m     13\u001b[0m     \u001b[0;31m# move data to gpu\u001b[0m\u001b[0;34m\u001b[0m\u001b[0;34m\u001b[0m\u001b[0m\n\u001b[1;32m     14\u001b[0m     \u001b[0minputs\u001b[0m\u001b[0;34m=\u001b[0m \u001b[0minputs\u001b[0m\u001b[0;34m[\u001b[0m\u001b[0;36m0\u001b[0m\u001b[0;34m]\u001b[0m\u001b[0;34m.\u001b[0m\u001b[0mreshape\u001b[0m\u001b[0;34m(\u001b[0m\u001b[0;34m(\u001b[0m\u001b[0;34m-\u001b[0m\u001b[0;36m1\u001b[0m\u001b[0;34m,\u001b[0m\u001b[0;36m12\u001b[0m\u001b[0;34m,\u001b[0m\u001b[0;36m8\u001b[0m\u001b[0;34m,\u001b[0m\u001b[0;36m8\u001b[0m\u001b[0;34m)\u001b[0m\u001b[0;34m)\u001b[0m\u001b[0;34m.\u001b[0m\u001b[0mto\u001b[0m\u001b[0;34m(\u001b[0m\u001b[0mdevice\u001b[0m\u001b[0;34m)\u001b[0m\u001b[0;34m,\u001b[0m\u001b[0minputs\u001b[0m\u001b[0;34m[\u001b[0m\u001b[0;36m1\u001b[0m\u001b[0;34m]\u001b[0m\u001b[0;34m.\u001b[0m\u001b[0mto\u001b[0m\u001b[0;34m(\u001b[0m\u001b[0mdevice\u001b[0m\u001b[0;34m)\u001b[0m\u001b[0;34m,\u001b[0m\u001b[0minputs\u001b[0m\u001b[0;34m[\u001b[0m\u001b[0;36m2\u001b[0m\u001b[0;34m]\u001b[0m\u001b[0;34m.\u001b[0m\u001b[0mview\u001b[0m\u001b[0;34m(\u001b[0m\u001b[0;34m-\u001b[0m\u001b[0;36m1\u001b[0m\u001b[0;34m,\u001b[0m\u001b[0;36m1\u001b[0m\u001b[0;34m)\u001b[0m\u001b[0;34m.\u001b[0m\u001b[0mto\u001b[0m\u001b[0;34m(\u001b[0m\u001b[0mdevice\u001b[0m\u001b[0;34m)\u001b[0m\u001b[0;34m\u001b[0m\u001b[0;34m\u001b[0m\u001b[0m\n",
            "\u001b[0;32m/usr/local/lib/python3.10/dist-packages/torch/utils/data/dataloader.py\u001b[0m in \u001b[0;36m__next__\u001b[0;34m(self)\u001b[0m\n\u001b[1;32m    699\u001b[0m                 \u001b[0;31m# TODO(https://github.com/pytorch/pytorch/issues/76750)\u001b[0m\u001b[0;34m\u001b[0m\u001b[0;34m\u001b[0m\u001b[0m\n\u001b[1;32m    700\u001b[0m                 \u001b[0mself\u001b[0m\u001b[0;34m.\u001b[0m\u001b[0m_reset\u001b[0m\u001b[0;34m(\u001b[0m\u001b[0;34m)\u001b[0m  \u001b[0;31m# type: ignore[call-arg]\u001b[0m\u001b[0;34m\u001b[0m\u001b[0;34m\u001b[0m\u001b[0m\n\u001b[0;32m--> 701\u001b[0;31m             \u001b[0mdata\u001b[0m \u001b[0;34m=\u001b[0m \u001b[0mself\u001b[0m\u001b[0;34m.\u001b[0m\u001b[0m_next_data\u001b[0m\u001b[0;34m(\u001b[0m\u001b[0;34m)\u001b[0m\u001b[0;34m\u001b[0m\u001b[0;34m\u001b[0m\u001b[0m\n\u001b[0m\u001b[1;32m    702\u001b[0m             \u001b[0mself\u001b[0m\u001b[0;34m.\u001b[0m\u001b[0m_num_yielded\u001b[0m \u001b[0;34m+=\u001b[0m \u001b[0;36m1\u001b[0m\u001b[0;34m\u001b[0m\u001b[0;34m\u001b[0m\u001b[0m\n\u001b[1;32m    703\u001b[0m             if (\n",
            "\u001b[0;32m/usr/local/lib/python3.10/dist-packages/torch/utils/data/dataloader.py\u001b[0m in \u001b[0;36m_next_data\u001b[0;34m(self)\u001b[0m\n\u001b[1;32m    755\u001b[0m     \u001b[0;32mdef\u001b[0m \u001b[0m_next_data\u001b[0m\u001b[0;34m(\u001b[0m\u001b[0mself\u001b[0m\u001b[0;34m)\u001b[0m\u001b[0;34m:\u001b[0m\u001b[0;34m\u001b[0m\u001b[0;34m\u001b[0m\u001b[0m\n\u001b[1;32m    756\u001b[0m         \u001b[0mindex\u001b[0m \u001b[0;34m=\u001b[0m \u001b[0mself\u001b[0m\u001b[0;34m.\u001b[0m\u001b[0m_next_index\u001b[0m\u001b[0;34m(\u001b[0m\u001b[0;34m)\u001b[0m  \u001b[0;31m# may raise StopIteration\u001b[0m\u001b[0;34m\u001b[0m\u001b[0;34m\u001b[0m\u001b[0m\n\u001b[0;32m--> 757\u001b[0;31m         \u001b[0mdata\u001b[0m \u001b[0;34m=\u001b[0m \u001b[0mself\u001b[0m\u001b[0;34m.\u001b[0m\u001b[0m_dataset_fetcher\u001b[0m\u001b[0;34m.\u001b[0m\u001b[0mfetch\u001b[0m\u001b[0;34m(\u001b[0m\u001b[0mindex\u001b[0m\u001b[0;34m)\u001b[0m  \u001b[0;31m# may raise StopIteration\u001b[0m\u001b[0;34m\u001b[0m\u001b[0;34m\u001b[0m\u001b[0m\n\u001b[0m\u001b[1;32m    758\u001b[0m         \u001b[0;32mif\u001b[0m \u001b[0mself\u001b[0m\u001b[0;34m.\u001b[0m\u001b[0m_pin_memory\u001b[0m\u001b[0;34m:\u001b[0m\u001b[0;34m\u001b[0m\u001b[0;34m\u001b[0m\u001b[0m\n\u001b[1;32m    759\u001b[0m             \u001b[0mdata\u001b[0m \u001b[0;34m=\u001b[0m \u001b[0m_utils\u001b[0m\u001b[0;34m.\u001b[0m\u001b[0mpin_memory\u001b[0m\u001b[0;34m.\u001b[0m\u001b[0mpin_memory\u001b[0m\u001b[0;34m(\u001b[0m\u001b[0mdata\u001b[0m\u001b[0;34m,\u001b[0m \u001b[0mself\u001b[0m\u001b[0;34m.\u001b[0m\u001b[0m_pin_memory_device\u001b[0m\u001b[0;34m)\u001b[0m\u001b[0;34m\u001b[0m\u001b[0;34m\u001b[0m\u001b[0m\n",
            "\u001b[0;32m/usr/local/lib/python3.10/dist-packages/torch/utils/data/_utils/fetch.py\u001b[0m in \u001b[0;36mfetch\u001b[0;34m(self, possibly_batched_index)\u001b[0m\n\u001b[1;32m     50\u001b[0m                 \u001b[0mdata\u001b[0m \u001b[0;34m=\u001b[0m \u001b[0mself\u001b[0m\u001b[0;34m.\u001b[0m\u001b[0mdataset\u001b[0m\u001b[0;34m.\u001b[0m\u001b[0m__getitems__\u001b[0m\u001b[0;34m(\u001b[0m\u001b[0mpossibly_batched_index\u001b[0m\u001b[0;34m)\u001b[0m\u001b[0;34m\u001b[0m\u001b[0;34m\u001b[0m\u001b[0m\n\u001b[1;32m     51\u001b[0m             \u001b[0;32melse\u001b[0m\u001b[0;34m:\u001b[0m\u001b[0;34m\u001b[0m\u001b[0;34m\u001b[0m\u001b[0m\n\u001b[0;32m---> 52\u001b[0;31m                 \u001b[0mdata\u001b[0m \u001b[0;34m=\u001b[0m \u001b[0;34m[\u001b[0m\u001b[0mself\u001b[0m\u001b[0;34m.\u001b[0m\u001b[0mdataset\u001b[0m\u001b[0;34m[\u001b[0m\u001b[0midx\u001b[0m\u001b[0;34m]\u001b[0m \u001b[0;32mfor\u001b[0m \u001b[0midx\u001b[0m \u001b[0;32min\u001b[0m \u001b[0mpossibly_batched_index\u001b[0m\u001b[0;34m]\u001b[0m\u001b[0;34m\u001b[0m\u001b[0;34m\u001b[0m\u001b[0m\n\u001b[0m\u001b[1;32m     53\u001b[0m         \u001b[0;32melse\u001b[0m\u001b[0;34m:\u001b[0m\u001b[0;34m\u001b[0m\u001b[0;34m\u001b[0m\u001b[0m\n\u001b[1;32m     54\u001b[0m             \u001b[0mdata\u001b[0m \u001b[0;34m=\u001b[0m \u001b[0mself\u001b[0m\u001b[0;34m.\u001b[0m\u001b[0mdataset\u001b[0m\u001b[0;34m[\u001b[0m\u001b[0mpossibly_batched_index\u001b[0m\u001b[0;34m]\u001b[0m\u001b[0;34m\u001b[0m\u001b[0;34m\u001b[0m\u001b[0m\n",
            "\u001b[0;32m/usr/local/lib/python3.10/dist-packages/torch/utils/data/_utils/fetch.py\u001b[0m in \u001b[0;36m<listcomp>\u001b[0;34m(.0)\u001b[0m\n\u001b[1;32m     50\u001b[0m                 \u001b[0mdata\u001b[0m \u001b[0;34m=\u001b[0m \u001b[0mself\u001b[0m\u001b[0;34m.\u001b[0m\u001b[0mdataset\u001b[0m\u001b[0;34m.\u001b[0m\u001b[0m__getitems__\u001b[0m\u001b[0;34m(\u001b[0m\u001b[0mpossibly_batched_index\u001b[0m\u001b[0;34m)\u001b[0m\u001b[0;34m\u001b[0m\u001b[0;34m\u001b[0m\u001b[0m\n\u001b[1;32m     51\u001b[0m             \u001b[0;32melse\u001b[0m\u001b[0;34m:\u001b[0m\u001b[0;34m\u001b[0m\u001b[0;34m\u001b[0m\u001b[0m\n\u001b[0;32m---> 52\u001b[0;31m                 \u001b[0mdata\u001b[0m \u001b[0;34m=\u001b[0m \u001b[0;34m[\u001b[0m\u001b[0mself\u001b[0m\u001b[0;34m.\u001b[0m\u001b[0mdataset\u001b[0m\u001b[0;34m[\u001b[0m\u001b[0midx\u001b[0m\u001b[0;34m]\u001b[0m \u001b[0;32mfor\u001b[0m \u001b[0midx\u001b[0m \u001b[0;32min\u001b[0m \u001b[0mpossibly_batched_index\u001b[0m\u001b[0;34m]\u001b[0m\u001b[0;34m\u001b[0m\u001b[0;34m\u001b[0m\u001b[0m\n\u001b[0m\u001b[1;32m     53\u001b[0m         \u001b[0;32melse\u001b[0m\u001b[0;34m:\u001b[0m\u001b[0;34m\u001b[0m\u001b[0;34m\u001b[0m\u001b[0m\n\u001b[1;32m     54\u001b[0m             \u001b[0mdata\u001b[0m \u001b[0;34m=\u001b[0m \u001b[0mself\u001b[0m\u001b[0;34m.\u001b[0m\u001b[0mdataset\u001b[0m\u001b[0;34m[\u001b[0m\u001b[0mpossibly_batched_index\u001b[0m\u001b[0;34m]\u001b[0m\u001b[0;34m\u001b[0m\u001b[0;34m\u001b[0m\u001b[0m\n",
            "\u001b[0;32m<ipython-input-12-e2890b6c4c3f>\u001b[0m in \u001b[0;36m__getitem__\u001b[0;34m(self, idx)\u001b[0m\n\u001b[1;32m     10\u001b[0m     \u001b[0;31m# get audio data\u001b[0m\u001b[0;34m\u001b[0m\u001b[0;34m\u001b[0m\u001b[0m\n\u001b[1;32m     11\u001b[0m     \u001b[0mrow\u001b[0m \u001b[0;34m=\u001b[0m \u001b[0mdf\u001b[0m\u001b[0;34m.\u001b[0m\u001b[0mloc\u001b[0m\u001b[0;34m[\u001b[0m\u001b[0midx\u001b[0m\u001b[0;34m]\u001b[0m\u001b[0;34m\u001b[0m\u001b[0;34m\u001b[0m\u001b[0m\n\u001b[0;32m---> 12\u001b[0;31m     \u001b[0mboard\u001b[0m\u001b[0;34m=\u001b[0m\u001b[0mrow\u001b[0m\u001b[0;34m[\u001b[0m\u001b[0;34m\"board\"\u001b[0m\u001b[0;34m]\u001b[0m\u001b[0;34m\u001b[0m\u001b[0;34m\u001b[0m\u001b[0m\n\u001b[0m\u001b[1;32m     13\u001b[0m     \u001b[0mfrom_position\u001b[0m \u001b[0;34m=\u001b[0m \u001b[0mrow\u001b[0m\u001b[0;34m[\u001b[0m\u001b[0;34m'fromPosition'\u001b[0m\u001b[0;34m]\u001b[0m\u001b[0;34m\u001b[0m\u001b[0;34m\u001b[0m\u001b[0m\n\u001b[1;32m     14\u001b[0m     \u001b[0mplayer\u001b[0m \u001b[0;34m=\u001b[0m \u001b[0mrow\u001b[0m\u001b[0;34m[\u001b[0m\u001b[0;34m'player'\u001b[0m\u001b[0;34m]\u001b[0m\u001b[0;34m\u001b[0m\u001b[0;34m\u001b[0m\u001b[0m\n",
            "\u001b[0;32m/usr/local/lib/python3.10/dist-packages/pandas/core/series.py\u001b[0m in \u001b[0;36m__getitem__\u001b[0;34m(self, key)\u001b[0m\n\u001b[1;32m   1102\u001b[0m             \u001b[0;32mreturn\u001b[0m \u001b[0mself\u001b[0m\u001b[0;34m\u001b[0m\u001b[0;34m\u001b[0m\u001b[0m\n\u001b[1;32m   1103\u001b[0m \u001b[0;34m\u001b[0m\u001b[0m\n\u001b[0;32m-> 1104\u001b[0;31m         \u001b[0mkey_is_scalar\u001b[0m \u001b[0;34m=\u001b[0m \u001b[0mis_scalar\u001b[0m\u001b[0;34m(\u001b[0m\u001b[0mkey\u001b[0m\u001b[0;34m)\u001b[0m\u001b[0;34m\u001b[0m\u001b[0;34m\u001b[0m\u001b[0m\n\u001b[0m\u001b[1;32m   1105\u001b[0m         \u001b[0;32mif\u001b[0m \u001b[0misinstance\u001b[0m\u001b[0;34m(\u001b[0m\u001b[0mkey\u001b[0m\u001b[0;34m,\u001b[0m \u001b[0;34m(\u001b[0m\u001b[0mlist\u001b[0m\u001b[0;34m,\u001b[0m \u001b[0mtuple\u001b[0m\u001b[0;34m)\u001b[0m\u001b[0;34m)\u001b[0m\u001b[0;34m:\u001b[0m\u001b[0;34m\u001b[0m\u001b[0;34m\u001b[0m\u001b[0m\n\u001b[1;32m   1106\u001b[0m             \u001b[0mkey\u001b[0m \u001b[0;34m=\u001b[0m \u001b[0munpack_1tuple\u001b[0m\u001b[0;34m(\u001b[0m\u001b[0mkey\u001b[0m\u001b[0;34m)\u001b[0m\u001b[0;34m\u001b[0m\u001b[0;34m\u001b[0m\u001b[0m\n",
            "\u001b[0;31mKeyboardInterrupt\u001b[0m: "
          ]
        }
      ]
    },
    {
      "cell_type": "code",
      "source": [],
      "metadata": {
        "id": "wkwjjUaK9gt4"
      },
      "execution_count": null,
      "outputs": []
    },
    {
      "cell_type": "code",
      "source": [
        "model.load_state_dict(torch.load(\"model_checkpoint.pt\")[\"model_state_dict\"])\n"
      ],
      "metadata": {
        "id": "mKTrHfDGi39J",
        "colab": {
          "base_uri": "https://localhost:8080/"
        },
        "outputId": "d410c2ef-f59c-47cf-b0fc-578893d7e76e"
      },
      "execution_count": null,
      "outputs": [
        {
          "output_type": "stream",
          "name": "stderr",
          "text": [
            "<ipython-input-35-309bddacb415>:1: FutureWarning: You are using `torch.load` with `weights_only=False` (the current default value), which uses the default pickle module implicitly. It is possible to construct malicious pickle data which will execute arbitrary code during unpickling (See https://github.com/pytorch/pytorch/blob/main/SECURITY.md#untrusted-models for more details). In a future release, the default value for `weights_only` will be flipped to `True`. This limits the functions that could be executed during unpickling. Arbitrary objects will no longer be allowed to be loaded via this mode unless they are explicitly allowlisted by the user via `torch.serialization.add_safe_globals`. We recommend you start setting `weights_only=True` for any use case where you don't have full control of the loaded file. Please open an issue on GitHub for any issues related to this experimental feature.\n",
            "  model.load_state_dict(torch.load(\"model_checkpoint.pt\")[\"model_state_dict\"])\n"
          ]
        },
        {
          "output_type": "execute_result",
          "data": {
            "text/plain": [
              "<All keys matched successfully>"
            ]
          },
          "metadata": {},
          "execution_count": 35
        }
      ]
    },
    {
      "cell_type": "code",
      "source": [
        "model.eval() # set model to eval mode\n",
        "val_loss=[]\n",
        "for inputs,targets in test_loader:\n",
        "    # move data to gpu\n",
        "    inputs= inputs[0].reshape((-1,12,8,8)).to(device),inputs[1].to(device),inputs[2].view(-1,1).to(device)\n",
        "    targets = targets.to(device)\n",
        "   # inputs = inputs.permute(0,2,1)\n",
        "\n",
        "\n",
        "    # forward pass\n",
        "    outputs = model(inputs)\n",
        "    loss = criterion(outputs,targets)\n",
        "\n",
        "    val_loss.append(loss.item())\n",
        "\n",
        "  # calculate loss\n",
        "val_loss = np.mean(val_loss)"
      ],
      "metadata": {
        "id": "NSn194x7VhH4"
      },
      "execution_count": null,
      "outputs": []
    },
    {
      "cell_type": "code",
      "source": [
        "val_loss"
      ],
      "metadata": {
        "id": "Jm8eSxkUVuhT",
        "colab": {
          "base_uri": "https://localhost:8080/"
        },
        "outputId": "e4c756fd-8378-4845-a319-29868f95b285"
      },
      "execution_count": null,
      "outputs": [
        {
          "output_type": "execute_result",
          "data": {
            "text/plain": [
              "0.0870613561711931"
            ]
          },
          "metadata": {},
          "execution_count": 37
        }
      ]
    },
    {
      "cell_type": "code",
      "source": [
        "torch.save(model.state_dict(), 'model_to_weights.pth')"
      ],
      "metadata": {
        "id": "0ybhiozNzdKM"
      },
      "execution_count": null,
      "outputs": []
    },
    {
      "cell_type": "code",
      "source": [],
      "metadata": {
        "id": "fv7wt_QLp2lB"
      },
      "execution_count": null,
      "outputs": []
    }
  ]
}