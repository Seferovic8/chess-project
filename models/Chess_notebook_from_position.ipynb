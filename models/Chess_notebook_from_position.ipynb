{
  "nbformat": 4,
  "nbformat_minor": 0,
  "metadata": {
    "colab": {
      "provenance": [],
      "gpuType": "T4",
      "machine_shape": "hm",
      "authorship_tag": "ABX9TyMRXcvOCMuWSDilrl+rUyUW",
      "include_colab_link": true
    },
    "kernelspec": {
      "name": "python3",
      "display_name": "Python 3"
    },
    "language_info": {
      "name": "python"
    },
    "accelerator": "GPU"
  },
  "cells": [
    {
      "cell_type": "markdown",
      "metadata": {
        "id": "view-in-github",
        "colab_type": "text"
      },
      "source": [
        "<a href=\"https://colab.research.google.com/github/Seferovic8/chess-project/blob/main/models/Chess_notebook_from_position.ipynb\" target=\"_parent\"><img src=\"https://colab.research.google.com/assets/colab-badge.svg\" alt=\"Open In Colab\"/></a>"
      ]
    },
    {
      "cell_type": "code",
      "source": [
        "from google.colab import drive\n",
        "drive.mount('/content/drive/')"
      ],
      "metadata": {
        "id": "MfpZbd8_Z9Wa"
      },
      "execution_count": null,
      "outputs": []
    },
    {
      "cell_type": "code",
      "source": [
        "!pip install chess"
      ],
      "metadata": {
        "id": "92J534YdT3Pf",
        "colab": {
          "base_uri": "https://localhost:8080/"
        },
        "outputId": "307b6dbf-c1d0-4aa5-a176-b1a15425412c"
      },
      "execution_count": null,
      "outputs": [
        {
          "output_type": "stream",
          "name": "stdout",
          "text": [
            "Collecting chess\n",
            "  Downloading chess-1.11.1.tar.gz (156 kB)\n",
            "\u001b[?25l     \u001b[90m━━━━━━━━━━━━━━━━━━━━━━━━━━━━━━━━━━━━━━━━\u001b[0m \u001b[32m0.0/156.5 kB\u001b[0m \u001b[31m?\u001b[0m eta \u001b[36m-:--:--\u001b[0m\r\u001b[2K     \u001b[90m━━━━━━━━━━━━━━━━━━━━━━━━━━━━━━━━━━━━━━━━\u001b[0m \u001b[32m156.5/156.5 kB\u001b[0m \u001b[31m7.8 MB/s\u001b[0m eta \u001b[36m0:00:00\u001b[0m\n",
            "\u001b[?25h  Preparing metadata (setup.py) ... \u001b[?25l\u001b[?25hdone\n",
            "Building wheels for collected packages: chess\n",
            "  Building wheel for chess (setup.py) ... \u001b[?25l\u001b[?25hdone\n",
            "  Created wheel for chess: filename=chess-1.11.1-py3-none-any.whl size=148497 sha256=c2dcad629682d7f7936c7d2e52edeae29487728f75f1e453af3c7b0854247c46\n",
            "  Stored in directory: /root/.cache/pip/wheels/2e/2d/23/1bfc95db984ed3ecbf6764167dc7526d0ab521cf9a9852544e\n",
            "Successfully built chess\n",
            "Installing collected packages: chess\n",
            "Successfully installed chess-1.11.1\n"
          ]
        }
      ]
    },
    {
      "cell_type": "code",
      "execution_count": null,
      "metadata": {
        "id": "Iaclb_V3pXOf"
      },
      "outputs": [],
      "source": [
        "import numpy as np\n",
        "import pandas as pd\n",
        "import torch\n",
        "from numpy import loadtxt\n",
        "from io import StringIO\n",
        "import chess.pgn\n",
        "import matplotlib.pyplot as plt\n",
        "\n",
        "import torch\n",
        "import torch.nn as nn\n",
        "import torch.nn.functional as F\n",
        "import torchaudio.transforms as transforms\n",
        "from torch.utils.data import DataLoader\n",
        "from torch.utils.data import Dataset\n",
        "from sklearn.model_selection import train_test_split\n",
        "from datetime import datetime\n"
      ]
    },
    {
      "cell_type": "code",
      "source": [
        "#!gdown 1ruGgJKeKv2DGWgVcqmdjK9pWk0mPYSu4\n",
        "!gdown 1OjVvEeEZNTvU6M2s2We6u8pFYil3dS1x"
      ],
      "metadata": {
        "id": "q0WN8dPzpcRD",
        "colab": {
          "base_uri": "https://localhost:8080/"
        },
        "outputId": "57579186-f9ec-4524-cbf9-c35f822496e5"
      },
      "execution_count": null,
      "outputs": [
        {
          "output_type": "stream",
          "name": "stdout",
          "text": [
            "Downloading...\n",
            "From (original): https://drive.google.com/uc?id=1OjVvEeEZNTvU6M2s2We6u8pFYil3dS1x\n",
            "From (redirected): https://drive.google.com/uc?id=1OjVvEeEZNTvU6M2s2We6u8pFYil3dS1x&confirm=t&uuid=7bf326b4-b936-451a-ad59-6e72c30a7a83\n",
            "To: /content/chess_dataset.csv\n",
            "100% 2.73G/2.73G [00:12<00:00, 222MB/s]\n"
          ]
        }
      ]
    },
    {
      "cell_type": "code",
      "source": [
        "def string_to_array(string):\n",
        "    string = string.replace(\"]\", \"\").replace(\"[\", \"\").replace(\"\\n\",\"\").replace(\" \",\"\").replace(\".\",\" \")\n",
        "    #k = '['+k+']'\n",
        "    c = StringIO(string)\n",
        "\n",
        "    ar=loadtxt(c)\n",
        "    return ar.reshape((8,8,12))"
      ],
      "metadata": {
        "id": "B6sb_CaqpnVo"
      },
      "execution_count": null,
      "outputs": []
    },
    {
      "cell_type": "code",
      "source": [
        "df = pd.read_csv(\"chess_dataset.csv\")\n",
        "df = df[:500_000]"
      ],
      "metadata": {
        "id": "fg0gYubLpvGZ"
      },
      "execution_count": null,
      "outputs": []
    },
    {
      "cell_type": "code",
      "source": [
        "len(df)"
      ],
      "metadata": {
        "id": "ppmW-BO_wZIB",
        "colab": {
          "base_uri": "https://localhost:8080/"
        },
        "outputId": "265b32ba-2b24-43b3-b9b5-7a9fc201e7d9"
      },
      "execution_count": null,
      "outputs": [
        {
          "output_type": "execute_result",
          "data": {
            "text/plain": [
              "500000"
            ]
          },
          "metadata": {},
          "execution_count": 9
        }
      ]
    },
    {
      "cell_type": "code",
      "source": [
        "df[\"board\"]=df[\"board\"].apply(string_to_array)"
      ],
      "metadata": {
        "id": "epWoLyMYp0jT"
      },
      "execution_count": null,
      "outputs": []
    },
    {
      "cell_type": "code",
      "source": [
        "df"
      ],
      "metadata": {
        "id": "wAZxCZtKqzfn"
      },
      "execution_count": null,
      "outputs": []
    },
    {
      "cell_type": "code",
      "source": [
        "df_train, df_test = train_test_split(df, test_size=0.2)"
      ],
      "metadata": {
        "id": "SIjhVtunqfEk"
      },
      "execution_count": null,
      "outputs": []
    },
    {
      "cell_type": "code",
      "source": [
        "def one_hot_encode(num, length=64):\n",
        "    enc = np.zeros(length)\n",
        "    enc[num]=1\n",
        "    return enc"
      ],
      "metadata": {
        "id": "DjyVb-PFt4fK"
      },
      "execution_count": null,
      "outputs": []
    },
    {
      "cell_type": "code",
      "source": [
        "class ChessDataset(Dataset):\n",
        "  def __init__(self, dataset):\n",
        "    super(ChessDataset,self).__init__()\n",
        "    self.dataset = dataset\n",
        "\n",
        "  def __len__(self):\n",
        "      return len(self.dataset)\n",
        "\n",
        "  def __getitem__(self, idx):\n",
        "    # get audio data\n",
        "    row = df.loc[idx]\n",
        "    board=row[\"board\"]\n",
        "    player = row['player']\n",
        "    # Convert to torch tensors with appropriate data types\n",
        "    board_tensor = torch.FloatTensor(board)\n",
        "    player_tensor = torch.tensor(player, dtype=torch.float32)\n",
        "    # Get label\n",
        "    label = torch.tensor(one_hot_encode(row['fromPosition']), dtype=torch.float32)\n",
        "\n",
        "    # Return tuple of inputs and label\n",
        "\n",
        "    return (board_tensor, player_tensor), label"
      ],
      "metadata": {
        "id": "rNMUXwX-p29V"
      },
      "execution_count": null,
      "outputs": []
    },
    {
      "cell_type": "code",
      "source": [
        "train_dataset = ChessDataset(df_train)\n",
        "test_dataset = ChessDataset(df_test)"
      ],
      "metadata": {
        "id": "o7j9aK5LqXx7"
      },
      "execution_count": null,
      "outputs": []
    },
    {
      "cell_type": "code",
      "source": [
        "train_loader = DataLoader(train_dataset, batch_size=32)\n",
        "test_loader = DataLoader(test_dataset, batch_size=32)"
      ],
      "metadata": {
        "id": "WeY9vjdcrqI6"
      },
      "execution_count": null,
      "outputs": []
    },
    {
      "cell_type": "code",
      "source": [
        "for i,_ in train_loader:\n",
        "  print(i[1].shape)\n",
        "  break"
      ],
      "metadata": {
        "id": "fQB-AV5croPA"
      },
      "execution_count": null,
      "outputs": []
    },
    {
      "cell_type": "code",
      "source": [
        "for i,d in train_dataset:\n",
        "  print(i[1].view(-1,1).shape)\n",
        "  break"
      ],
      "metadata": {
        "id": "0ifC5XfFrPvG"
      },
      "execution_count": null,
      "outputs": []
    },
    {
      "cell_type": "code",
      "source": [
        "number_of_classes=64"
      ],
      "metadata": {
        "id": "NjmvjmT1zue_"
      },
      "execution_count": null,
      "outputs": []
    },
    {
      "cell_type": "markdown",
      "source": [
        "# Create model"
      ],
      "metadata": {
        "id": "iZVUkujzxpiM"
      }
    },
    {
      "cell_type": "code",
      "source": [
        "device = torch.device('cuda:0' if torch.cuda.is_available() else 'cpu')\n",
        "print(device)"
      ],
      "metadata": {
        "id": "55XFIGqArWuJ"
      },
      "execution_count": null,
      "outputs": []
    },
    {
      "cell_type": "code",
      "source": [
        "bada=[]"
      ],
      "metadata": {
        "id": "fNYaMkVv1wup"
      },
      "execution_count": null,
      "outputs": []
    },
    {
      "cell_type": "code",
      "source": [
        "class ChessDecoder:\n",
        "      def __init__(self):\n",
        "          self.pieces={\n",
        "          chess.Piece(chess.PAWN, chess.WHITE): 0,\n",
        "          chess.Piece(chess.PAWN, chess.BLACK): 1,\n",
        "          chess.Piece(chess.ROOK, chess.WHITE): 2,\n",
        "          chess.Piece(chess.ROOK, chess.BLACK): 3,\n",
        "          chess.Piece(chess.KNIGHT, chess.WHITE): 4,\n",
        "          chess.Piece(chess.KNIGHT, chess.BLACK): 5,\n",
        "          chess.Piece(chess.BISHOP, chess.WHITE): 6,\n",
        "          chess.Piece(chess.BISHOP, chess.BLACK): 7,\n",
        "          chess.Piece(chess.QUEEN, chess.WHITE): 8,\n",
        "          chess.Piece(chess.QUEEN, chess.BLACK): 9,\n",
        "          chess.Piece(chess.KING, chess.WHITE): 10,\n",
        "          chess.Piece(chess.KING, chess.BLACK): 11,\n",
        "        }\n",
        "          self.reverse_pieces = {value: key for key, value in self.pieces.items()}\n",
        "      def getPiece(self,encoding):\n",
        "          if torch.equal(encoding, torch.zeros(12).to(device)):\n",
        "            return None\n",
        "\n",
        "          return self.reverse_pieces[torch.argmax(encoding).item()]\n",
        "\n",
        "      def getPieceEncoding(self,piece):\n",
        "          if piece is not None:\n",
        "              return one_hot_encode(self.pieces[piece],length=12)\n",
        "          return torch.zeros(12)\n",
        "\n",
        "      def decodeBoardPosition(self, encodedBoard,turn):\n",
        "          encodedBoard=encodedBoard.reshape(64,-1)\n",
        "          board=chess.Board()\n",
        "          board.turn=turn\n",
        "          for square in range(64):\n",
        "              board.set_piece_at(square,self.getPiece(encodedBoard[square]))\n",
        "          return board\n",
        "      def getAllowedMoves(self,b,square,winner,en_passant=False):\n",
        "              global bada\n",
        "              board = self.decodeBoardPosition(b,winner)\n",
        "              isLeftEdge=square%8!=0\n",
        "              isRightEdge=square%8!=7\n",
        "              if en_passant:\n",
        "                if winner ==chess.BLACK:\n",
        "                    if isLeftEdge:\n",
        "                      board.ep_square = square-9\n",
        "                    if isRightEdge:\n",
        "                      board.ep_square = square-7\n",
        "                else:\n",
        "                    if isRightEdge:\n",
        "                      board.ep_square = square+9\n",
        "                    if isLeftEdge:\n",
        "                      board.ep_square = square+7\n",
        "              allowedMoves = [move.to_square for move in board.pseudo_legal_moves if move.from_square == square]\n",
        "              if not allowedMoves:\n",
        "                return self.getAllowedMoves(b,square,winner,en_passant=True)\n",
        "              return allowedMoves\n",
        "\n",
        "      def getMask(self,encodedBoard,from_square,player,mask_size):\n",
        "          mask = torch.zeros(mask_size, 64).to(device)  # Initialize mask with zeros\n",
        "          #mask.fill_(-10)\n",
        "\n",
        "          for i,board in enumerate(encodedBoard):\n",
        "              winner = bool(player[i].item())\n",
        "              square=torch.argmax(from_square[i]).item()\n",
        "\n",
        "              allowedMoves=[]\n",
        "              allowedMoves = self.getAllowedMoves(board,square,winner)\n",
        "             # mask[i, allowedMoves] = 0\n",
        "              mask[i, allowedMoves] = 1\n",
        "          return mask\n",
        "      def encodeBoard(self,board):\n",
        "        encodedBoard=np.zeros((64,12))\n",
        "        for square in range(64):\n",
        "            piece = board.piece_at(square)\n",
        "            encodedBoard[square]=self.getPieceEncoding(piece)\n",
        "        return encodedBoard.reshape(8,8,12)\n",
        "      def getPiecesOfColor(self,board,winner):\n",
        "              pieces=[]\n",
        "              board = self.decodeBoardPosition(board,winner)\n",
        "              for square in range(64):\n",
        "                  piece = board.piece_at(square)\n",
        "                  isLeftEdge=square%8!=0\n",
        "                  isRightEdge=square%8!=7\n",
        "                  if piece==chess.PAWN:\n",
        "                    if winner ==chess.BLACK:\n",
        "                        if isLeftEdge:\n",
        "                          board.ep_square = square-9\n",
        "                        if isRightEdge:\n",
        "                          board.ep_square = square-7\n",
        "                    else:\n",
        "                        if isRightEdge:\n",
        "                          board.ep_square = square+9\n",
        "                        if isLeftEdge:\n",
        "                          board.ep_square = square+7\n",
        "                  if piece and piece.color == winner:\n",
        "                      for move in board.legal_moves:\n",
        "                          if move.from_square==square:\n",
        "                              pieces.append(square)\n",
        "              return pieces\n",
        "      def getFromPositionMask(self,encodedBoard,player,mask_size):\n",
        "           mask = torch.zeros(mask_size, 64).to(device)  # Initialize mask with zeros\n",
        "          #mask.fill_(-10)\n",
        "\n",
        "           for i,board in enumerate(encodedBoard):\n",
        "              winner = bool(player[i].item())\n",
        "\n",
        "              allowedMoves = self.getPiecesOfColor(board,winner)\n",
        "              # mask[i, allowedMoves] = 0\n",
        "              mask[i,allowedMoves] = 1\n",
        "           return mask\n",
        "      def getWinner(game):\n",
        "        if game.headers['Result'] ==\"1-0\":\n",
        "            return chess.WHITE\n",
        "        return chess.BLACK\n",
        "\n",
        "      def encodeGame(self,game):\n",
        "        board = chess.Board()\n",
        "        data=[]\n",
        "        winner = self.getWinner(game)\n",
        "        # Go through each move in the game until\n",
        "        # we reach the required move number\n",
        "        for move in game.mainline_moves():\n",
        "            if board.turn==winner:\n",
        "                encodedBoard=self.encodeBoard(board)\n",
        "                data.append([encodedBoard,move.from_square,move.to_square,int(winner)])\n",
        "            board.push(move)\n",
        "        return data"
      ],
      "metadata": {
        "id": "AlhhVS6ZToi2"
      },
      "execution_count": null,
      "outputs": []
    },
    {
      "cell_type": "code",
      "source": [
        "class CNN(nn.Module):\n",
        "  def __init__(self, n_inputs, n_outputs):\n",
        "    super(CNN,self).__init__()\n",
        "    self.D = n_inputs\n",
        "    self.K = n_outputs\n",
        "    self.conv1 = nn.Sequential(\n",
        "      nn.Conv2d(self.D, 32, kernel_size=5, padding=2,stride=1),\n",
        "      #nn.ReLU(),\n",
        "      #nn.Conv2d(32, 64, kernel_size=5),\n",
        "     # nn.BatchNorm2d(32),\n",
        "      nn.ReLU(),\n",
        "      #nn.MaxPool2d(2,stride=2)\n",
        "    )\n",
        "\n",
        "    self.conv2 = nn.Sequential(\n",
        "      nn.Conv2d(32, 128, kernel_size=3,padding=1,stride=1),\n",
        "      #nn.ReLU(),\n",
        "      #nn.Conv2d(128, 256, kernel_size=2),\n",
        "      #nn.BatchNorm2d(128),\n",
        "      nn.ReLU(),\n",
        "     #nn.MaxPool2d(2)\n",
        "    )\n",
        "\n",
        "    self.conv3 = nn.Sequential(\n",
        "      nn.Conv2d(128, 384, kernel_size=2,padding=0,stride=1),\n",
        "      nn.BatchNorm2d(384),\n",
        "      nn.ReLU(),\n",
        "     # nn.MaxPool2d(2)\n",
        "    )\n",
        "    self.conv4 = nn.Sequential(\n",
        "      nn.Conv2d(384, 384, kernel_size=2,padding=0,stride=1),\n",
        "      nn.BatchNorm2d(384),\n",
        "      nn.ReLU(),\n",
        "      #nn.MaxPool2d(2)\n",
        "    )\n",
        "    self.fc = nn.Sequential(\n",
        "      nn.Dropout(0.5),\n",
        "      nn.Linear(13824,1024),\n",
        "      nn.ReLU(),\n",
        "      nn.Linear(1024, 1024),\n",
        "      #nn.ReLU(),\n",
        "      nn.Linear(1024, self.K),\n",
        "      nn.ReLU()\n",
        "    )\n",
        "\n",
        "  def forward(self,X):\n",
        "   # X = torch.unsqueeze(X,1)\n",
        "\n",
        "    out = self.conv1(X)\n",
        "\n",
        "    out = self.conv2(out)\n",
        "\n",
        "    out = self.conv3(out)\n",
        "\n",
        "    out = self.conv4(out)\n",
        "    #out = self.conv5(out)\n",
        "\n",
        "    #out, _  = torch.max(out, -1)\n",
        "    out = out.view(out.size(0), -1)\n",
        "    out = self.fc(out)\n",
        "    return out\n",
        "\n"
      ],
      "metadata": {
        "id": "S2f4VJLyxr0x"
      },
      "execution_count": null,
      "outputs": []
    },
    {
      "cell_type": "code",
      "source": [
        "class ChessModel(nn.Module):\n",
        "  def __init__(self, hidden_outputs, n_outputs,device):\n",
        "    super(ChessModel,self).__init__()\n",
        "\n",
        "    self.HO=hidden_outputs\n",
        "    self.K = n_outputs\n",
        "    self.device=device\n",
        "    #self.cnn = CNN(n_inputs=12, n_outputs=self.HO)\n",
        "    self.chessDecoder=ChessDecoder()\n",
        "    self.fcPlayer = nn.Sequential(\n",
        "        nn.Linear(1,64),\n",
        "        nn.ReLU(),\n",
        "        nn.Linear(64,64),\n",
        "        nn.ReLU(),\n",
        "        nn.Linear(64,32),\n",
        "        nn.ReLU())\n",
        "    self.fc = nn.Sequential(\n",
        "        nn.Linear(self.HO+32,4096),\n",
        "        nn.ReLU(),\n",
        "        nn.Linear(4096,2048),\n",
        "        nn.ReLU(),\n",
        "        nn.Linear(2048,2048),\n",
        "        nn.ReLU(),\n",
        "        nn.Linear(2048,self.K))\n",
        "\n",
        "  def forward(self,X):\n",
        "    #cnn_outputs = self.cnn(X[0])\n",
        "    player_outputs = self.fcPlayer(X[1])\n",
        "\n",
        "    out = torch.cat((X[0].view(X[0].size(0),-1),player_outputs),1)\n",
        "    out = self.fc(out)\n",
        "    #out = torch.softmax(out,dim=1)\n",
        "    #mask=self.chessDecoder.getFromPositionMask(X[0],X[1],out.size(0))\n",
        "    #out=out*mask\n",
        "    #out = out / out.sum(dim=1, keepdim=True)\n",
        "    return out"
      ],
      "metadata": {
        "id": "G4izrFSlx3hk"
      },
      "execution_count": null,
      "outputs": []
    },
    {
      "cell_type": "code",
      "source": [
        "model = ChessModel(\n",
        "            hidden_outputs = 512,\n",
        "            n_outputs=number_of_classes,\n",
        "            device=device)\n",
        "model.to(device)"
      ],
      "metadata": {
        "id": "U1A5xpy-zr4f",
        "colab": {
          "base_uri": "https://localhost:8080/"
        },
        "outputId": "7c5c8ce8-9ae1-4a5e-fd5a-fee55acae0c3"
      },
      "execution_count": null,
      "outputs": [
        {
          "output_type": "execute_result",
          "data": {
            "text/plain": [
              "ChessModel(\n",
              "  (cnn): CNN(\n",
              "    (conv1): Sequential(\n",
              "      (0): Conv2d(12, 32, kernel_size=(5, 5), stride=(1, 1), padding=(2, 2))\n",
              "      (1): ReLU()\n",
              "    )\n",
              "    (conv2): Sequential(\n",
              "      (0): Conv2d(32, 128, kernel_size=(3, 3), stride=(1, 1), padding=(1, 1))\n",
              "      (1): ReLU()\n",
              "    )\n",
              "    (conv3): Sequential(\n",
              "      (0): Conv2d(128, 384, kernel_size=(2, 2), stride=(1, 1))\n",
              "      (1): BatchNorm2d(384, eps=1e-05, momentum=0.1, affine=True, track_running_stats=True)\n",
              "      (2): ReLU()\n",
              "    )\n",
              "    (conv4): Sequential(\n",
              "      (0): Conv2d(384, 384, kernel_size=(2, 2), stride=(1, 1))\n",
              "      (1): BatchNorm2d(384, eps=1e-05, momentum=0.1, affine=True, track_running_stats=True)\n",
              "      (2): ReLU()\n",
              "    )\n",
              "    (fc): Sequential(\n",
              "      (0): Dropout(p=0.5, inplace=False)\n",
              "      (1): Linear(in_features=13824, out_features=1024, bias=True)\n",
              "      (2): ReLU()\n",
              "      (3): Linear(in_features=1024, out_features=1024, bias=True)\n",
              "      (4): Linear(in_features=1024, out_features=512, bias=True)\n",
              "      (5): ReLU()\n",
              "    )\n",
              "  )\n",
              "  (fcPlayer): Sequential(\n",
              "    (0): Linear(in_features=1, out_features=64, bias=True)\n",
              "    (1): ReLU()\n",
              "    (2): Linear(in_features=64, out_features=64, bias=True)\n",
              "    (3): ReLU()\n",
              "    (4): Linear(in_features=64, out_features=32, bias=True)\n",
              "    (5): ReLU()\n",
              "  )\n",
              "  (fc): Sequential(\n",
              "    (0): Linear(in_features=544, out_features=4096, bias=True)\n",
              "    (1): ReLU()\n",
              "    (2): Linear(in_features=4096, out_features=2048, bias=True)\n",
              "    (3): ReLU()\n",
              "    (4): Linear(in_features=2048, out_features=2048, bias=True)\n",
              "    (5): ReLU()\n",
              "    (6): Linear(in_features=2048, out_features=64, bias=True)\n",
              "  )\n",
              ")"
            ]
          },
          "metadata": {},
          "execution_count": 22
        }
      ]
    },
    {
      "cell_type": "code",
      "source": [
        "def CrossEntropyLoss(predictions, targets, X):\n",
        "    #print(f\"prd {predictions}\")\n",
        "    if len(targets.shape) > 1 and targets.shape[1] > 1:\n",
        "        targets = torch.argmax(targets, dim=1)\n",
        "\n",
        "    # Apply log-softmax for numerical stability\n",
        "    outputs=F.softmax(predictions,dim=1)\n",
        "    mask=chessDecoder.getFromPositionMask(X[0],X[1],outputs.size(0))\n",
        "    #outputs=outputs*mask\n",
        "    outputs = outputs * mask\n",
        "    outputs = outputs.masked_fill(outputs == 0, 1e-8)  # Replace zeros with a small positive value\n",
        "    row_sums = outputs.sum(dim=1, keepdim=True)\n",
        "    outputs = outputs / row_sums\n",
        "\n",
        "    #print(outputs.sum(dim=1, keepdim=True))\n",
        "    #outputs = outputs / outputs.sum(dim=1, keepdim=True)\n",
        "    log_probs = torch.log(outputs)\n",
        "    # Gather log probabilities corresponding to the true class labels\n",
        "    loss = -log_probs[range(predictions.shape[0]), targets]\n",
        "    # Calculate the mean loss\n",
        "    return loss.mean()"
      ],
      "metadata": {
        "id": "sLUS1VB_uW0V"
      },
      "execution_count": null,
      "outputs": []
    },
    {
      "cell_type": "code",
      "source": [
        "criterion = nn.CrossEntropyLoss()\n",
        "chessDecoder=ChessDecoder()\n",
        "l=0\n",
        "for i, k in train_loader:\n",
        " # print(i[0].shape)\n",
        " # i = i.view(i.size(0),1,i.size(1),i.size(2))\n",
        "\n",
        "  l+=1\n",
        "  i = i[0].reshape((-1,12,8,8)).to(device),i[1].to(device).view(-1,1)\n",
        "  #print(k[0][34])\n",
        "  out = model(i)\n",
        "  loss = criterion(out,k.to(device)).item()\n",
        "  #print(loss)\n",
        "  print(CrossEntropyLoss(out,k.to(device),i).item())\n",
        "  if np.isnan(criterion(out,k.to(device)).item()):\n",
        "    print(out[0])\n",
        "  #break\n",
        "  #print(criterion(out,k.to(device)).item())\n",
        "  #print(type(criterion(out,k.to(device)).item()))\n",
        "  break\n",
        "  #print(np.max(lak[0].cpu().detach().numpy()))\n",
        "  #print(lak.size())\n"
      ],
      "metadata": {
        "id": "0hTr5w6wzyr3",
        "colab": {
          "base_uri": "https://localhost:8080/"
        },
        "outputId": "e569547a-beec-4a54-fa66-4b1a48719b02"
      },
      "execution_count": null,
      "outputs": [
        {
          "output_type": "stream",
          "name": "stdout",
          "text": [
            "2.2229788303375244\n"
          ]
        }
      ]
    },
    {
      "cell_type": "code",
      "source": [],
      "metadata": {
        "id": "HgXYMvNC48k2"
      },
      "execution_count": null,
      "outputs": []
    },
    {
      "cell_type": "markdown",
      "source": [
        "# Train model"
      ],
      "metadata": {
        "id": "9vKQJkMZ1zZ0"
      }
    },
    {
      "cell_type": "code",
      "source": [
        "criterion = nn.CrossEntropyLoss()\n",
        "optimizer = torch.optim.Adam(model.parameters(),lr=0.0001)"
      ],
      "metadata": {
        "id": "ZYObutpp9a0d"
      },
      "execution_count": null,
      "outputs": []
    },
    {
      "cell_type": "code",
      "execution_count": null,
      "metadata": {
        "id": "Ylgt4c6jJuUM"
      },
      "outputs": [],
      "source": [
        "def save_model_checkpoint(val_loss, best_val_loss, train_loss, it, model=model, optimizer=optimizer,path='model_checkpoint.pt'):\n",
        "    torch.save({\n",
        "            'epoch': it,\n",
        "            'model_state_dict': model.state_dict(),\n",
        "            'optimizer_state_dict': optimizer.state_dict(),\n",
        "            'train_loss': train_loss,\n",
        "            'val_loss': val_loss,\n",
        "            }, path)\n",
        "    print(f'Model saved at epoch: {it+1}, val_loss improved from: {best_val_loss:.4f} to: {val_loss:.4f}')"
      ]
    },
    {
      "cell_type": "code",
      "execution_count": null,
      "metadata": {
        "id": "Lv_VZleNOGYK"
      },
      "outputs": [],
      "source": [
        "def plot_loss_curves(train_losses,val_losses,train_losses2=None,val_losses2=None):\n",
        "  if(train_losses2 is not None):\n",
        "    train_losses = np.concatenate((train_losses,train_losses2))\n",
        "    val_losses = np.concatenate((val_losses,val_losses2))\n",
        "  plt.plot(train_losses,label='Train loss')\n",
        "  plt.plot(val_losses,label='Val loss')\n",
        "  plt.legend(); plt.show\n",
        "best_val_loss=10**5"
      ]
    },
    {
      "cell_type": "code",
      "source": [
        "epoches=50\n",
        "train_losses = np.zeros(epoches)\n",
        "val_losses = np.zeros(epoches)\n",
        "\n",
        "for it in range(epoches):\n",
        "  t0 = datetime.now()\n",
        "  model.train() # set model to train mode\n",
        "  train_loss=[]\n",
        "  val_loss=[]\n",
        "\n",
        "  # train\n",
        "  for inputs,targets in train_loader:\n",
        "    # move data to gpu\n",
        "    inputs= inputs[0].reshape((-1,12,8,8)).to(device),inputs[1].view(-1,1).to(device)\n",
        "\n",
        "    targets = targets.to(device)\n",
        "    #inputs = inputs.permute(0,2,1)\n",
        "    # zero gradients\n",
        "    optimizer.zero_grad()\n",
        "\n",
        "    # forward pass\n",
        "    outputs = model(inputs)\n",
        "    loss = CrossEntropyLoss(outputs,targets,inputs)\n",
        "    #print(inputs)\n",
        "    # backward\n",
        "    loss.backward()\n",
        "    optimizer.step()\n",
        "    train_loss.append(loss.item())\n",
        "  model.eval() # set model to eval mode\n",
        "  for inputs,targets in test_loader:\n",
        "    # move data to gpu\n",
        "    inputs= inputs[0].reshape((-1,12,8,8)).to(device),inputs[1].view(-1,1).to(device)\n",
        "    targets = targets.to(device)\n",
        "   # inputs = inputs.permute(0,2,1)\n",
        "\n",
        "\n",
        "    # forward pass\n",
        "    outputs = model(inputs)\n",
        "    loss = CrossEntropyLoss(outputs,targets,inputs)\n",
        "\n",
        "    val_loss.append(loss.item())\n",
        "\n",
        "  # calculate loss\n",
        "  train_loss = np.mean(train_loss)\n",
        "  val_loss = np.mean(val_loss)\n",
        "  if (val_loss<best_val_loss):\n",
        "    save_model_checkpoint(val_loss,best_val_loss,train_loss,it, path='model_checkpoint.pt')\n",
        "    best_val_loss=val_loss\n",
        "  # append loss\n",
        "  train_losses[it]=train_loss\n",
        "  val_losses[it]=val_loss\n",
        "  dt = datetime.now() - t0\n",
        "  print(f\"Epoch {it+1}/{epoches}, Train loss: {train_loss:.4f}, Val loss: {val_loss:.4f}, Duration: {dt}\")\n",
        "  print('-------------------------------------------------------------')"
      ],
      "metadata": {
        "colab": {
          "base_uri": "https://localhost:8080/"
        },
        "id": "O4kbPPli9Mre",
        "outputId": "f78997a7-5435-49f3-ea7c-5bde68000c3e"
      },
      "execution_count": null,
      "outputs": [
        {
          "output_type": "stream",
          "name": "stdout",
          "text": [
            "Model saved at epoch: 1, val_loss improved from: 100000.0000 to: 1.9396\n",
            "Epoch 1/50, Train loss: 1.9683, Val loss: 1.9396, Duration: 0:05:37.111427\n",
            "-------------------------------------------------------------\n",
            "Model saved at epoch: 2, val_loss improved from: 1.9396 to: 1.8567\n",
            "Epoch 2/50, Train loss: 1.9129, Val loss: 1.8567, Duration: 0:05:40.591297\n",
            "-------------------------------------------------------------\n",
            "Model saved at epoch: 3, val_loss improved from: 1.8567 to: 1.8255\n",
            "Epoch 3/50, Train loss: 1.8508, Val loss: 1.8255, Duration: 0:05:38.023115\n",
            "-------------------------------------------------------------\n",
            "Model saved at epoch: 4, val_loss improved from: 1.8255 to: 1.8065\n",
            "Epoch 4/50, Train loss: 1.8103, Val loss: 1.8065, Duration: 0:05:40.482051\n",
            "-------------------------------------------------------------\n",
            "Model saved at epoch: 5, val_loss improved from: 1.8065 to: 1.7524\n",
            "Epoch 5/50, Train loss: 1.7679, Val loss: 1.7524, Duration: 0:05:40.294372\n",
            "-------------------------------------------------------------\n",
            "Model saved at epoch: 6, val_loss improved from: 1.7524 to: 1.7429\n",
            "Epoch 6/50, Train loss: 1.7237, Val loss: 1.7429, Duration: 0:05:44.159742\n",
            "-------------------------------------------------------------\n",
            "Model saved at epoch: 7, val_loss improved from: 1.7429 to: 1.6638\n",
            "Epoch 7/50, Train loss: 1.6785, Val loss: 1.6638, Duration: 0:05:41.497820\n",
            "-------------------------------------------------------------\n",
            "Model saved at epoch: 8, val_loss improved from: 1.6638 to: 1.6547\n",
            "Epoch 8/50, Train loss: 1.6379, Val loss: 1.6547, Duration: 0:05:37.078298\n",
            "-------------------------------------------------------------\n",
            "Model saved at epoch: 9, val_loss improved from: 1.6547 to: 1.5901\n",
            "Epoch 9/50, Train loss: 1.5944, Val loss: 1.5901, Duration: 0:05:38.738817\n",
            "-------------------------------------------------------------\n",
            "Model saved at epoch: 10, val_loss improved from: 1.5901 to: 1.5598\n",
            "Epoch 10/50, Train loss: 1.5425, Val loss: 1.5598, Duration: 0:05:41.336029\n",
            "-------------------------------------------------------------\n",
            "Model saved at epoch: 11, val_loss improved from: 1.5598 to: 1.5099\n",
            "Epoch 11/50, Train loss: 1.4892, Val loss: 1.5099, Duration: 0:05:40.384371\n",
            "-------------------------------------------------------------\n",
            "Model saved at epoch: 12, val_loss improved from: 1.5099 to: 1.5091\n",
            "Epoch 12/50, Train loss: 1.4418, Val loss: 1.5091, Duration: 0:05:42.578492\n",
            "-------------------------------------------------------------\n",
            "Model saved at epoch: 13, val_loss improved from: 1.5091 to: 1.4060\n",
            "Epoch 13/50, Train loss: 1.3850, Val loss: 1.4060, Duration: 0:05:43.395993\n",
            "-------------------------------------------------------------\n",
            "Model saved at epoch: 14, val_loss improved from: 1.4060 to: 1.3880\n",
            "Epoch 14/50, Train loss: 1.3417, Val loss: 1.3880, Duration: 0:05:41.859279\n",
            "-------------------------------------------------------------\n",
            "Model saved at epoch: 15, val_loss improved from: 1.3880 to: 1.3640\n",
            "Epoch 15/50, Train loss: 1.2957, Val loss: 1.3640, Duration: 0:05:43.658862\n",
            "-------------------------------------------------------------\n",
            "Model saved at epoch: 16, val_loss improved from: 1.3640 to: 1.2399\n",
            "Epoch 16/50, Train loss: 1.2494, Val loss: 1.2399, Duration: 0:05:39.576701\n",
            "-------------------------------------------------------------\n",
            "Model saved at epoch: 17, val_loss improved from: 1.2399 to: 1.2313\n",
            "Epoch 17/50, Train loss: 1.2037, Val loss: 1.2313, Duration: 0:05:34.647752\n",
            "-------------------------------------------------------------\n",
            "Model saved at epoch: 18, val_loss improved from: 1.2313 to: 1.2096\n",
            "Epoch 18/50, Train loss: 1.1526, Val loss: 1.2096, Duration: 0:05:36.061997\n",
            "-------------------------------------------------------------\n",
            "Model saved at epoch: 19, val_loss improved from: 1.2096 to: 1.1667\n",
            "Epoch 19/50, Train loss: 1.1113, Val loss: 1.1667, Duration: 0:05:40.551276\n",
            "-------------------------------------------------------------\n",
            "Model saved at epoch: 20, val_loss improved from: 1.1667 to: 1.1032\n",
            "Epoch 20/50, Train loss: 1.0697, Val loss: 1.1032, Duration: 0:05:40.647533\n",
            "-------------------------------------------------------------\n",
            "Epoch 21/50, Train loss: 1.0211, Val loss: 1.1033, Duration: 0:05:41.070827\n",
            "-------------------------------------------------------------\n",
            "Model saved at epoch: 22, val_loss improved from: 1.1032 to: 0.9848\n",
            "Epoch 22/50, Train loss: 0.9774, Val loss: 0.9848, Duration: 0:05:39.561760\n",
            "-------------------------------------------------------------\n",
            "Model saved at epoch: 23, val_loss improved from: 0.9848 to: 0.9669\n",
            "Epoch 23/50, Train loss: 0.9380, Val loss: 0.9669, Duration: 0:05:36.766529\n",
            "-------------------------------------------------------------\n",
            "Epoch 24/50, Train loss: 0.9115, Val loss: 0.9870, Duration: 0:05:39.467896\n",
            "-------------------------------------------------------------\n",
            "Model saved at epoch: 25, val_loss improved from: 0.9669 to: 0.9156\n",
            "Epoch 25/50, Train loss: 0.8704, Val loss: 0.9156, Duration: 0:05:38.483876\n",
            "-------------------------------------------------------------\n",
            "Model saved at epoch: 26, val_loss improved from: 0.9156 to: 0.8702\n",
            "Epoch 26/50, Train loss: 0.8278, Val loss: 0.8702, Duration: 0:05:43.072955\n",
            "-------------------------------------------------------------\n",
            "Model saved at epoch: 27, val_loss improved from: 0.8702 to: 0.8677\n",
            "Epoch 27/50, Train loss: 0.8003, Val loss: 0.8677, Duration: 0:05:39.354090\n",
            "-------------------------------------------------------------\n",
            "Model saved at epoch: 28, val_loss improved from: 0.8677 to: 0.8348\n",
            "Epoch 28/50, Train loss: 0.7742, Val loss: 0.8348, Duration: 0:05:42.821083\n",
            "-------------------------------------------------------------\n",
            "Model saved at epoch: 29, val_loss improved from: 0.8348 to: 0.7570\n",
            "Epoch 29/50, Train loss: 0.7409, Val loss: 0.7570, Duration: 0:05:41.286665\n",
            "-------------------------------------------------------------\n",
            "Model saved at epoch: 30, val_loss improved from: 0.7570 to: 0.7461\n",
            "Epoch 30/50, Train loss: 0.7054, Val loss: 0.7461, Duration: 0:05:40.350446\n",
            "-------------------------------------------------------------\n",
            "Model saved at epoch: 31, val_loss improved from: 0.7461 to: 0.7445\n",
            "Epoch 31/50, Train loss: 0.6784, Val loss: 0.7445, Duration: 0:05:41.338539\n",
            "-------------------------------------------------------------\n",
            "Model saved at epoch: 32, val_loss improved from: 0.7445 to: 0.7042\n",
            "Epoch 32/50, Train loss: 0.6537, Val loss: 0.7042, Duration: 0:05:37.992349\n",
            "-------------------------------------------------------------\n",
            "Model saved at epoch: 33, val_loss improved from: 0.7042 to: 0.6896\n",
            "Epoch 33/50, Train loss: 0.6363, Val loss: 0.6896, Duration: 0:05:38.556869\n",
            "-------------------------------------------------------------\n",
            "Model saved at epoch: 34, val_loss improved from: 0.6896 to: 0.6387\n",
            "Epoch 34/50, Train loss: 0.6058, Val loss: 0.6387, Duration: 0:05:41.692386\n",
            "-------------------------------------------------------------\n",
            "Model saved at epoch: 35, val_loss improved from: 0.6387 to: 0.5978\n",
            "Epoch 35/50, Train loss: 0.5847, Val loss: 0.5978, Duration: 0:05:38.877235\n",
            "-------------------------------------------------------------\n",
            "Model saved at epoch: 36, val_loss improved from: 0.5978 to: 0.5855\n",
            "Epoch 36/50, Train loss: 0.5719, Val loss: 0.5855, Duration: 0:05:43.265752\n",
            "-------------------------------------------------------------\n",
            "Model saved at epoch: 37, val_loss improved from: 0.5855 to: 0.5542\n",
            "Epoch 37/50, Train loss: 0.5434, Val loss: 0.5542, Duration: 0:05:38.770833\n",
            "-------------------------------------------------------------\n",
            "Model saved at epoch: 38, val_loss improved from: 0.5542 to: 0.5255\n",
            "Epoch 38/50, Train loss: 0.5296, Val loss: 0.5255, Duration: 0:05:41.575190\n",
            "-------------------------------------------------------------\n",
            "Epoch 39/50, Train loss: 0.5154, Val loss: 0.5708, Duration: 0:05:40.995275\n",
            "-------------------------------------------------------------\n",
            "Epoch 40/50, Train loss: 0.4892, Val loss: 0.5694, Duration: 0:05:36.791385\n",
            "-------------------------------------------------------------\n",
            "Model saved at epoch: 41, val_loss improved from: 0.5255 to: 0.4900\n",
            "Epoch 41/50, Train loss: 0.4840, Val loss: 0.4900, Duration: 0:05:36.829463\n",
            "-------------------------------------------------------------\n",
            "Epoch 42/50, Train loss: 0.4694, Val loss: 0.5452, Duration: 0:05:39.375727\n",
            "-------------------------------------------------------------\n",
            "Model saved at epoch: 43, val_loss improved from: 0.4900 to: 0.4537\n",
            "Epoch 43/50, Train loss: 0.4466, Val loss: 0.4537, Duration: 0:05:39.540179\n",
            "-------------------------------------------------------------\n",
            "Epoch 44/50, Train loss: 0.4333, Val loss: 0.4544, Duration: 0:05:40.003386\n",
            "-------------------------------------------------------------\n",
            "Model saved at epoch: 45, val_loss improved from: 0.4537 to: 0.4513\n",
            "Epoch 45/50, Train loss: 0.4245, Val loss: 0.4513, Duration: 0:05:40.427985\n",
            "-------------------------------------------------------------\n",
            "Model saved at epoch: 46, val_loss improved from: 0.4513 to: 0.4270\n",
            "Epoch 46/50, Train loss: 0.4129, Val loss: 0.4270, Duration: 0:05:42.214675\n",
            "-------------------------------------------------------------\n",
            "Epoch 47/50, Train loss: 0.4000, Val loss: 0.4933, Duration: 0:05:39.622317\n",
            "-------------------------------------------------------------\n",
            "Epoch 48/50, Train loss: 0.3945, Val loss: 0.4469, Duration: 0:05:39.963320\n",
            "-------------------------------------------------------------\n",
            "Model saved at epoch: 49, val_loss improved from: 0.4270 to: 0.3850\n",
            "Epoch 49/50, Train loss: 0.3837, Val loss: 0.3850, Duration: 0:05:36.746075\n",
            "-------------------------------------------------------------\n",
            "Epoch 50/50, Train loss: 0.3702, Val loss: 0.4338, Duration: 0:05:34.524335\n",
            "-------------------------------------------------------------\n"
          ]
        }
      ]
    },
    {
      "cell_type": "code",
      "source": [
        "\n"
      ],
      "metadata": {
        "id": "wkwjjUaK9gt4"
      },
      "execution_count": null,
      "outputs": []
    },
    {
      "cell_type": "code",
      "source": [],
      "metadata": {
        "id": "0ybhiozNzdKM"
      },
      "execution_count": null,
      "outputs": []
    }
  ]
}