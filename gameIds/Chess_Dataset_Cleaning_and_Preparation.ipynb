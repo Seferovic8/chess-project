{
 "cells": [
  {
   "cell_type": "code",
   "execution_count": 1,
   "id": "0f1637d1",
   "metadata": {},
   "outputs": [
    {
     "data": {
      "text/plain": [
       "'1.4.4'"
      ]
     },
     "execution_count": 1,
     "metadata": {},
     "output_type": "execute_result"
    }
   ],
   "source": [
    "#!pip install pandas==2.0.0\n",
    "import pandas as pd\n",
    "import numpy as np\n",
    "pd.__version__"
   ]
  },
  {
   "cell_type": "markdown",
   "id": "586824ab",
   "metadata": {},
   "source": [
    "# Import data frames"
   ]
  },
  {
   "cell_type": "code",
   "execution_count": 2,
   "id": "d7511397",
   "metadata": {},
   "outputs": [],
   "source": [
    "df1=pd.read_csv(\"games.csv\")"
   ]
  },
  {
   "cell_type": "code",
   "execution_count": 3,
   "id": "b08b67f3",
   "metadata": {},
   "outputs": [],
   "source": [
    "df2=pd.read_csv(\"games2.csv\")"
   ]
  },
  {
   "cell_type": "code",
   "execution_count": 4,
   "id": "83e21afb",
   "metadata": {},
   "outputs": [],
   "source": [
    "df3=pd.read_csv(\"games3.csv\")"
   ]
  },
  {
   "cell_type": "code",
   "execution_count": 5,
   "id": "b4868748",
   "metadata": {},
   "outputs": [
    {
     "data": {
      "text/html": [
       "<div>\n",
       "<style scoped>\n",
       "    .dataframe tbody tr th:only-of-type {\n",
       "        vertical-align: middle;\n",
       "    }\n",
       "\n",
       "    .dataframe tbody tr th {\n",
       "        vertical-align: top;\n",
       "    }\n",
       "\n",
       "    .dataframe thead th {\n",
       "        text-align: right;\n",
       "    }\n",
       "</style>\n",
       "<table border=\"1\" class=\"dataframe\">\n",
       "  <thead>\n",
       "    <tr style=\"text-align: right;\">\n",
       "      <th></th>\n",
       "      <th>games</th>\n",
       "    </tr>\n",
       "  </thead>\n",
       "  <tbody>\n",
       "    <tr>\n",
       "      <th>0</th>\n",
       "      <td>16074318</td>\n",
       "    </tr>\n",
       "    <tr>\n",
       "      <th>1</th>\n",
       "      <td>16074082</td>\n",
       "    </tr>\n",
       "    <tr>\n",
       "      <th>2</th>\n",
       "      <td>16074142</td>\n",
       "    </tr>\n",
       "    <tr>\n",
       "      <th>3</th>\n",
       "      <td>16074156</td>\n",
       "    </tr>\n",
       "    <tr>\n",
       "      <th>4</th>\n",
       "      <td>16074360</td>\n",
       "    </tr>\n",
       "  </tbody>\n",
       "</table>\n",
       "</div>"
      ],
      "text/plain": [
       "      games\n",
       "0  16074318\n",
       "1  16074082\n",
       "2  16074142\n",
       "3  16074156\n",
       "4  16074360"
      ]
     },
     "execution_count": 5,
     "metadata": {},
     "output_type": "execute_result"
    }
   ],
   "source": [
    "df1.head()"
   ]
  },
  {
   "cell_type": "markdown",
   "id": "947b99ad",
   "metadata": {},
   "source": [
    "## Check lenght dataframes"
   ]
  },
  {
   "cell_type": "code",
   "execution_count": 6,
   "id": "d3b78c9b",
   "metadata": {},
   "outputs": [
    {
     "data": {
      "text/plain": [
       "227278"
      ]
     },
     "execution_count": 6,
     "metadata": {},
     "output_type": "execute_result"
    }
   ],
   "source": [
    "len(df1)+len(df2)+len(df3)"
   ]
  },
  {
   "cell_type": "markdown",
   "id": "39699608",
   "metadata": {},
   "source": [
    "## Concat dataframes and set index"
   ]
  },
  {
   "cell_type": "code",
   "execution_count": 7,
   "id": "05e3d6f2",
   "metadata": {},
   "outputs": [],
   "source": [
    "# Concatenate multiple DataFrames (df1, df2, df3, df4, df5, df6, df7) along the vertical axis (axis=0) into 'klix_df'\n",
    "chess_df=pd.concat([df1,df2,df3], axis=0)"
   ]
  },
  {
   "cell_type": "code",
   "execution_count": 30,
   "id": "6c22fc76",
   "metadata": {},
   "outputs": [
    {
     "data": {
      "text/plain": [
       "227152"
      ]
     },
     "execution_count": 30,
     "metadata": {},
     "output_type": "execute_result"
    }
   ],
   "source": [
    "# Check the length of the DataFrame\n",
    "len(chess_df)"
   ]
  },
  {
   "cell_type": "code",
   "execution_count": 11,
   "id": "07306779",
   "metadata": {},
   "outputs": [
    {
     "data": {
      "text/html": [
       "<div>\n",
       "<style scoped>\n",
       "    .dataframe tbody tr th:only-of-type {\n",
       "        vertical-align: middle;\n",
       "    }\n",
       "\n",
       "    .dataframe tbody tr th {\n",
       "        vertical-align: top;\n",
       "    }\n",
       "\n",
       "    .dataframe thead th {\n",
       "        text-align: right;\n",
       "    }\n",
       "</style>\n",
       "<table border=\"1\" class=\"dataframe\">\n",
       "  <thead>\n",
       "    <tr style=\"text-align: right;\">\n",
       "      <th></th>\n",
       "      <th>games</th>\n",
       "    </tr>\n",
       "  </thead>\n",
       "  <tbody>\n",
       "    <tr>\n",
       "      <th>0</th>\n",
       "      <td>16074318</td>\n",
       "    </tr>\n",
       "    <tr>\n",
       "      <th>1</th>\n",
       "      <td>16074082</td>\n",
       "    </tr>\n",
       "    <tr>\n",
       "      <th>2</th>\n",
       "      <td>16074142</td>\n",
       "    </tr>\n",
       "    <tr>\n",
       "      <th>3</th>\n",
       "      <td>16074156</td>\n",
       "    </tr>\n",
       "    <tr>\n",
       "      <th>4</th>\n",
       "      <td>16074360</td>\n",
       "    </tr>\n",
       "  </tbody>\n",
       "</table>\n",
       "</div>"
      ],
      "text/plain": [
       "      games\n",
       "0  16074318\n",
       "1  16074082\n",
       "2  16074142\n",
       "3  16074156\n",
       "4  16074360"
      ]
     },
     "execution_count": 11,
     "metadata": {},
     "output_type": "execute_result"
    }
   ],
   "source": [
    "# Displaying the first few rows of the DataFrame\n",
    "chess_df.head()"
   ]
  },
  {
   "cell_type": "code",
   "execution_count": 32,
   "id": "3b771140",
   "metadata": {},
   "outputs": [],
   "source": [
    "# Set the index of 'klix_df' to a new range of integers starting from 0 to match the updated DataFrame length\n",
    "chess_df.index=np.arange(0,len(chess_df))"
   ]
  },
  {
   "cell_type": "code",
   "execution_count": 33,
   "id": "f4101e29",
   "metadata": {},
   "outputs": [
    {
     "data": {
      "text/html": [
       "<div>\n",
       "<style scoped>\n",
       "    .dataframe tbody tr th:only-of-type {\n",
       "        vertical-align: middle;\n",
       "    }\n",
       "\n",
       "    .dataframe tbody tr th {\n",
       "        vertical-align: top;\n",
       "    }\n",
       "\n",
       "    .dataframe thead th {\n",
       "        text-align: right;\n",
       "    }\n",
       "</style>\n",
       "<table border=\"1\" class=\"dataframe\">\n",
       "  <thead>\n",
       "    <tr style=\"text-align: right;\">\n",
       "      <th></th>\n",
       "      <th>games</th>\n",
       "    </tr>\n",
       "  </thead>\n",
       "  <tbody>\n",
       "    <tr>\n",
       "      <th>227147</th>\n",
       "      <td>13965281</td>\n",
       "    </tr>\n",
       "    <tr>\n",
       "      <th>227148</th>\n",
       "      <td>13967093</td>\n",
       "    </tr>\n",
       "    <tr>\n",
       "      <th>227149</th>\n",
       "      <td>13967323</td>\n",
       "    </tr>\n",
       "    <tr>\n",
       "      <th>227150</th>\n",
       "      <td>13965263</td>\n",
       "    </tr>\n",
       "    <tr>\n",
       "      <th>227151</th>\n",
       "      <td>13966995</td>\n",
       "    </tr>\n",
       "  </tbody>\n",
       "</table>\n",
       "</div>"
      ],
      "text/plain": [
       "           games\n",
       "227147  13965281\n",
       "227148  13967093\n",
       "227149  13967323\n",
       "227150  13965263\n",
       "227151  13966995"
      ]
     },
     "execution_count": 33,
     "metadata": {},
     "output_type": "execute_result"
    }
   ],
   "source": [
    "chess_df.tail()"
   ]
  },
  {
   "cell_type": "markdown",
   "id": "42a82ad7",
   "metadata": {},
   "source": [
    "## Check for garbage in the DataFrame"
   ]
  },
  {
   "cell_type": "code",
   "execution_count": 28,
   "id": "9f328ae2",
   "metadata": {},
   "outputs": [
    {
     "ename": "SyntaxError",
     "evalue": "invalid syntax (2427362858.py, line 2)",
     "output_type": "error",
     "traceback": [
      "\u001b[1;36m  File \u001b[1;32m\"C:\\Users\\salih\\AppData\\Local\\Temp\\ipykernel_1516\\2427362858.py\"\u001b[1;36m, line \u001b[1;32m2\u001b[0m\n\u001b[1;33m    chess_df[chess_df.duplicated()][]\u001b[0m\n\u001b[1;37m                                    ^\u001b[0m\n\u001b[1;31mSyntaxError\u001b[0m\u001b[1;31m:\u001b[0m invalid syntax\n"
     ]
    }
   ],
   "source": [
    "# Find and display duplicate rows in the DataFrame\n",
    "chess_df[chess_df.duplicated()][]"
   ]
  },
  {
   "cell_type": "code",
   "execution_count": 29,
   "id": "b041a4e1",
   "metadata": {},
   "outputs": [
    {
     "data": {
      "text/html": [
       "<div>\n",
       "<style scoped>\n",
       "    .dataframe tbody tr th:only-of-type {\n",
       "        vertical-align: middle;\n",
       "    }\n",
       "\n",
       "    .dataframe tbody tr th {\n",
       "        vertical-align: top;\n",
       "    }\n",
       "\n",
       "    .dataframe thead th {\n",
       "        text-align: right;\n",
       "    }\n",
       "</style>\n",
       "<table border=\"1\" class=\"dataframe\">\n",
       "  <thead>\n",
       "    <tr style=\"text-align: right;\">\n",
       "      <th></th>\n",
       "      <th>games</th>\n",
       "    </tr>\n",
       "  </thead>\n",
       "  <tbody>\n",
       "  </tbody>\n",
       "</table>\n",
       "</div>"
      ],
      "text/plain": [
       "Empty DataFrame\n",
       "Columns: [games]\n",
       "Index: []"
      ]
     },
     "execution_count": 29,
     "metadata": {},
     "output_type": "execute_result"
    }
   ],
   "source": [
    "# Filter rows in DataFrame where the \"text\" column is equal to \"Greska\"\n",
    "chess_df[chess_df[\"games\"]==\"r\"]"
   ]
  },
  {
   "cell_type": "code",
   "execution_count": 17,
   "id": "92899f88",
   "metadata": {},
   "outputs": [],
   "source": [
    "# Check for NaN values in the 'title' column\n",
    "isna=chess_df['games'].isna()"
   ]
  },
  {
   "cell_type": "code",
   "execution_count": 19,
   "id": "c6424e67",
   "metadata": {},
   "outputs": [
    {
     "data": {
      "text/html": [
       "<div>\n",
       "<style scoped>\n",
       "    .dataframe tbody tr th:only-of-type {\n",
       "        vertical-align: middle;\n",
       "    }\n",
       "\n",
       "    .dataframe tbody tr th {\n",
       "        vertical-align: top;\n",
       "    }\n",
       "\n",
       "    .dataframe thead th {\n",
       "        text-align: right;\n",
       "    }\n",
       "</style>\n",
       "<table border=\"1\" class=\"dataframe\">\n",
       "  <thead>\n",
       "    <tr style=\"text-align: right;\">\n",
       "      <th></th>\n",
       "      <th>games</th>\n",
       "    </tr>\n",
       "  </thead>\n",
       "  <tbody>\n",
       "  </tbody>\n",
       "</table>\n",
       "</div>"
      ],
      "text/plain": [
       "Empty DataFrame\n",
       "Columns: [games]\n",
       "Index: []"
      ]
     },
     "execution_count": 19,
     "metadata": {},
     "output_type": "execute_result"
    }
   ],
   "source": [
    "# Display rows with NaN values in the 'title' column\n",
    "chess_df[isna]"
   ]
  },
  {
   "cell_type": "markdown",
   "id": "8177f41d",
   "metadata": {},
   "source": [
    "## Data Cleaning and Preprocessing"
   ]
  },
  {
   "cell_type": "code",
   "execution_count": 26,
   "id": "5032f868",
   "metadata": {},
   "outputs": [],
   "source": [
    "# Remove duplicate rows while keeping the first occurrence\n",
    "chess_df=chess_df.drop_duplicates(keep=False)"
   ]
  },
  {
   "cell_type": "code",
   "execution_count": 20,
   "id": "f36a62d4",
   "metadata": {
    "scrolled": true
   },
   "outputs": [
    {
     "name": "stderr",
     "output_type": "stream",
     "text": [
      "C:\\Users\\salih\\AppData\\Local\\Temp\\ipykernel_11252\\2467278091.py:2: UserWarning: Boolean Series key will be reindexed to match DataFrame index.\n",
      "  klix_df=klix_df.drop(klix_df[isna].index)\n"
     ]
    }
   ],
   "source": [
    "# Drop rows with NaN values in the 'title' column\n",
    "klix_df=klix_df.drop(klix_df[isna].index)"
   ]
  },
  {
   "cell_type": "code",
   "execution_count": 21,
   "id": "fe28491f",
   "metadata": {},
   "outputs": [],
   "source": [
    "# Drop rows where the 'text' column has the value 'Greska'\n",
    "klix_df=klix_df.drop(klix_df[klix_df[\"text\"]==\"Greska\"].index)"
   ]
  },
  {
   "cell_type": "code",
   "execution_count": 2,
   "id": "090fd961",
   "metadata": {},
   "outputs": [
    {
     "ename": "NameError",
     "evalue": "name 'klix_df' is not defined",
     "output_type": "error",
     "traceback": [
      "\u001b[1;31m---------------------------------------------------------------------------\u001b[0m",
      "\u001b[1;31mNameError\u001b[0m                                 Traceback (most recent call last)",
      "\u001b[1;32m~\\AppData\\Local\\Temp\\ipykernel_23240\\328473414.py\u001b[0m in \u001b[0;36m<module>\u001b[1;34m\u001b[0m\n\u001b[0;32m      1\u001b[0m \u001b[1;31m# Check the lenght of the DataFrame\u001b[0m\u001b[1;33m\u001b[0m\u001b[1;33m\u001b[0m\u001b[0m\n\u001b[1;32m----> 2\u001b[1;33m \u001b[0mlen\u001b[0m\u001b[1;33m(\u001b[0m\u001b[0mklix_df\u001b[0m\u001b[1;33m)\u001b[0m\u001b[1;33m\u001b[0m\u001b[1;33m\u001b[0m\u001b[0m\n\u001b[0m",
      "\u001b[1;31mNameError\u001b[0m: name 'klix_df' is not defined"
     ]
    }
   ],
   "source": [
    "# Check the lenght of the DataFrame\n",
    "len(klix_df)"
   ]
  },
  {
   "cell_type": "code",
   "execution_count": 10,
   "id": "39878a4e",
   "metadata": {},
   "outputs": [],
   "source": [
    "df=pd.read_csv(\"chess_games_df.csv\")"
   ]
  },
  {
   "cell_type": "code",
   "execution_count": 11,
   "id": "7bc5b169",
   "metadata": {},
   "outputs": [
    {
     "data": {
      "text/plain": [
       "(227152,\n",
       "       games\n",
       " 0  16074318\n",
       " 1  16074082\n",
       " 2  16074142\n",
       " 3  16074156\n",
       " 4  16074360)"
      ]
     },
     "execution_count": 11,
     "metadata": {},
     "output_type": "execute_result"
    }
   ],
   "source": [
    "len(df),df.head()"
   ]
  },
  {
   "cell_type": "code",
   "execution_count": 13,
   "id": "212d3db3",
   "metadata": {},
   "outputs": [],
   "source": [
    "dfshuf = df.sample(frac=1).reset_index(drop=True)"
   ]
  },
  {
   "cell_type": "code",
   "execution_count": 15,
   "id": "aceebaf8",
   "metadata": {},
   "outputs": [
    {
     "data": {
      "text/plain": [
       "(227152,\n",
       "       games\n",
       " 0   4372813\n",
       " 1   1332177\n",
       " 2  16084118\n",
       " 3   1068129\n",
       " 4  16371699)"
      ]
     },
     "execution_count": 15,
     "metadata": {},
     "output_type": "execute_result"
    }
   ],
   "source": [
    "len(df),dfshuf.head()"
   ]
  },
  {
   "cell_type": "code",
   "execution_count": 16,
   "id": "96649d2f",
   "metadata": {},
   "outputs": [],
   "source": [
    "chess_df=dfshuf"
   ]
  },
  {
   "cell_type": "markdown",
   "id": "a6cb8f59",
   "metadata": {},
   "source": [
    "## Save dataframe"
   ]
  },
  {
   "cell_type": "code",
   "execution_count": 17,
   "id": "ae867df9",
   "metadata": {},
   "outputs": [],
   "source": [
    "chess_df.to_csv('chess_games_df.csv',index=False)"
   ]
  },
  {
   "cell_type": "code",
   "execution_count": null,
   "id": "ff450006",
   "metadata": {},
   "outputs": [],
   "source": []
  }
 ],
 "metadata": {
  "kernelspec": {
   "display_name": "Python 3 (ipykernel)",
   "language": "python",
   "name": "python3"
  },
  "language_info": {
   "codemirror_mode": {
    "name": "ipython",
    "version": 3
   },
   "file_extension": ".py",
   "mimetype": "text/x-python",
   "name": "python",
   "nbconvert_exporter": "python",
   "pygments_lexer": "ipython3",
   "version": "3.9.13"
  }
 },
 "nbformat": 4,
 "nbformat_minor": 5
}
